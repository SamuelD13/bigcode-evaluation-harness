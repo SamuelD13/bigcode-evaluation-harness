{
 "cells": [
  {
   "cell_type": "code",
   "execution_count": 1,
   "id": "3947b06b-1bff-4546-b01f-95576b992bee",
   "metadata": {
    "execution": {
     "iopub.execute_input": "2024-08-11T23:39:04.666596Z",
     "iopub.status.busy": "2024-08-11T23:39:04.666135Z",
     "iopub.status.idle": "2024-08-11T23:39:09.367872Z",
     "shell.execute_reply": "2024-08-11T23:39:09.367138Z",
     "shell.execute_reply.started": "2024-08-11T23:39:04.666576Z"
    }
   },
   "outputs": [
    {
     "name": "stdout",
     "output_type": "stream",
     "text": [
      "Requirement already satisfied: evaluate==0.3.0 in /usr/local/lib/python3.11/dist-packages (0.3.0)\n",
      "Requirement already satisfied: datasets>=2.0.0 in /usr/local/lib/python3.11/dist-packages (from evaluate==0.3.0) (2.14.5)\n",
      "Requirement already satisfied: numpy>=1.17 in /usr/local/lib/python3.11/dist-packages (from evaluate==0.3.0) (1.26.3)\n",
      "Requirement already satisfied: dill in /usr/local/lib/python3.11/dist-packages (from evaluate==0.3.0) (0.3.7)\n",
      "Requirement already satisfied: pandas in /usr/local/lib/python3.11/dist-packages (from evaluate==0.3.0) (2.2.0)\n",
      "Requirement already satisfied: requests>=2.19.0 in /usr/local/lib/python3.11/dist-packages (from evaluate==0.3.0) (2.31.0)\n",
      "Requirement already satisfied: tqdm>=4.62.1 in /usr/local/lib/python3.11/dist-packages (from evaluate==0.3.0) (4.66.1)\n",
      "Requirement already satisfied: xxhash in /usr/local/lib/python3.11/dist-packages (from evaluate==0.3.0) (3.4.1)\n",
      "Requirement already satisfied: multiprocess in /usr/local/lib/python3.11/dist-packages (from evaluate==0.3.0) (0.70.15)\n",
      "Requirement already satisfied: fsspec>=2021.05.0 in /usr/local/lib/python3.11/dist-packages (from fsspec[http]>=2021.05.0->evaluate==0.3.0) (2023.6.0)\n",
      "Requirement already satisfied: huggingface-hub>=0.7.0 in /usr/local/lib/python3.11/dist-packages (from evaluate==0.3.0) (0.20.3)\n",
      "Requirement already satisfied: packaging in /usr/local/lib/python3.11/dist-packages (from evaluate==0.3.0) (23.2)\n",
      "Requirement already satisfied: responses<0.19 in /usr/local/lib/python3.11/dist-packages (from evaluate==0.3.0) (0.18.0)\n",
      "Requirement already satisfied: pyarrow>=8.0.0 in /usr/local/lib/python3.11/dist-packages (from datasets>=2.0.0->evaluate==0.3.0) (15.0.0)\n",
      "Requirement already satisfied: aiohttp in /usr/local/lib/python3.11/dist-packages (from datasets>=2.0.0->evaluate==0.3.0) (3.9.1)\n",
      "Requirement already satisfied: pyyaml>=5.1 in /usr/lib/python3/dist-packages (from datasets>=2.0.0->evaluate==0.3.0) (5.4.1)\n",
      "Requirement already satisfied: filelock in /usr/local/lib/python3.11/dist-packages (from huggingface-hub>=0.7.0->evaluate==0.3.0) (3.13.1)\n",
      "Requirement already satisfied: typing-extensions>=3.7.4.3 in /usr/local/lib/python3.11/dist-packages (from huggingface-hub>=0.7.0->evaluate==0.3.0) (4.9.0)\n",
      "Requirement already satisfied: charset-normalizer<4,>=2 in /usr/local/lib/python3.11/dist-packages (from requests>=2.19.0->evaluate==0.3.0) (3.3.2)\n",
      "Requirement already satisfied: idna<4,>=2.5 in /usr/lib/python3/dist-packages (from requests>=2.19.0->evaluate==0.3.0) (3.3)\n",
      "Requirement already satisfied: urllib3<3,>=1.21.1 in /usr/local/lib/python3.11/dist-packages (from requests>=2.19.0->evaluate==0.3.0) (2.0.7)\n",
      "Requirement already satisfied: certifi>=2017.4.17 in /usr/lib/python3/dist-packages (from requests>=2.19.0->evaluate==0.3.0) (2020.6.20)\n",
      "Requirement already satisfied: python-dateutil>=2.8.2 in /usr/local/lib/python3.11/dist-packages (from pandas->evaluate==0.3.0) (2.8.2)\n",
      "Requirement already satisfied: pytz>=2020.1 in /usr/lib/python3/dist-packages (from pandas->evaluate==0.3.0) (2022.1)\n",
      "Requirement already satisfied: tzdata>=2022.7 in /usr/local/lib/python3.11/dist-packages (from pandas->evaluate==0.3.0) (2023.4)\n",
      "Requirement already satisfied: attrs>=17.3.0 in /usr/local/lib/python3.11/dist-packages (from aiohttp->datasets>=2.0.0->evaluate==0.3.0) (23.1.0)\n",
      "Requirement already satisfied: multidict<7.0,>=4.5 in /usr/local/lib/python3.11/dist-packages (from aiohttp->datasets>=2.0.0->evaluate==0.3.0) (6.0.4)\n",
      "Requirement already satisfied: yarl<2.0,>=1.0 in /usr/local/lib/python3.11/dist-packages (from aiohttp->datasets>=2.0.0->evaluate==0.3.0) (1.9.4)\n",
      "Requirement already satisfied: frozenlist>=1.1.1 in /usr/local/lib/python3.11/dist-packages (from aiohttp->datasets>=2.0.0->evaluate==0.3.0) (1.4.1)\n",
      "Requirement already satisfied: aiosignal>=1.1.2 in /usr/local/lib/python3.11/dist-packages (from aiohttp->datasets>=2.0.0->evaluate==0.3.0) (1.3.1)\n",
      "Requirement already satisfied: six>=1.5 in /usr/lib/python3/dist-packages (from python-dateutil>=2.8.2->pandas->evaluate==0.3.0) (1.16.0)\n",
      "\u001b[33mWARNING: Running pip as the 'root' user can result in broken permissions and conflicting behaviour with the system package manager. It is recommended to use a virtual environment instead: https://pip.pypa.io/warnings/venv\u001b[0m\u001b[33m\n",
      "\u001b[0mRequirement already satisfied: mosestokenizer==1.0.0 in /usr/local/lib/python3.11/dist-packages (1.0.0)\n",
      "Requirement already satisfied: docopt in /usr/local/lib/python3.11/dist-packages (from mosestokenizer==1.0.0) (0.6.2)\n",
      "Requirement already satisfied: openfile in /usr/local/lib/python3.11/dist-packages (from mosestokenizer==1.0.0) (0.0.7)\n",
      "Requirement already satisfied: toolwrapper in /usr/local/lib/python3.11/dist-packages (from mosestokenizer==1.0.0) (2.1.0)\n",
      "\u001b[33mWARNING: Running pip as the 'root' user can result in broken permissions and conflicting behaviour with the system package manager. It is recommended to use a virtual environment instead: https://pip.pypa.io/warnings/venv\u001b[0m\u001b[33m\n",
      "\u001b[0m"
     ]
    }
   ],
   "source": [
    "!pip install evaluate==0.3.0\n",
    "!pip install mosestokenizer==1.0.0"
   ]
  },
  {
   "cell_type": "code",
   "execution_count": 2,
   "id": "dcf78c75-6c69-4c0d-906e-d0d5da7ed7fa",
   "metadata": {
    "execution": {
     "iopub.execute_input": "2024-08-11T23:39:09.369549Z",
     "iopub.status.busy": "2024-08-11T23:39:09.369315Z",
     "iopub.status.idle": "2024-08-11T23:39:09.375726Z",
     "shell.execute_reply": "2024-08-11T23:39:09.375147Z",
     "shell.execute_reply.started": "2024-08-11T23:39:09.369522Z"
    }
   },
   "outputs": [
    {
     "name": "stdout",
     "output_type": "stream",
     "text": [
      "deepseekcoder6.7/generations_deepseek-coder-6-7b-instruct\n",
      "deepseekcoder6.7/evaluation_codexglue_code_to_text-python_deepseek-coder-6-7b-instruct\n"
     ]
    }
   ],
   "source": [
    "MODEL_HUB = \"deepseek-ai/deepseek-coder-6.7b-instruct\"\n",
    "MODEL = \"deepseek-coder-6-7b-instruct\"\n",
    "PATH = \"deepseekcoder6.7\"\n",
    "TASK = \"codexglue_code_to_text-python\"\n",
    "QUANT = \"\"\n",
    "\n",
    "def create_path(model, path, task, quant):\n",
    "    SAVE_PATH = path + \"/generations_\" + model + quant\n",
    "    LOAD_PATH = SAVE_PATH + \"_\" + task + \".json\"\n",
    "    EVAL_PATH = PATH + \"/evaluation_\" + \"codexglue_code_to_text-python_\" + model + quant\n",
    "    return SAVE_PATH, LOAD_PATH, EVAL_PATH\n",
    "\n",
    "SAVE_PATH, _, EVAL_PATH = create_path(MODEL, PATH, TASK, QUANT)\n",
    "print(SAVE_PATH)\n",
    "print(EVAL_PATH)"
   ]
  },
  {
   "cell_type": "code",
   "execution_count": 3,
   "id": "f4afc6e7-49fd-49f2-95b3-65289342ea4f",
   "metadata": {
    "execution": {
     "iopub.execute_input": "2024-08-11T23:39:09.377276Z",
     "iopub.status.busy": "2024-08-11T23:39:09.376681Z",
     "iopub.status.idle": "2024-08-11T23:51:46.242878Z",
     "shell.execute_reply": "2024-08-11T23:51:46.242327Z",
     "shell.execute_reply.started": "2024-08-11T23:39:09.377253Z"
    }
   },
   "outputs": [
    {
     "name": "stdout",
     "output_type": "stream",
     "text": [
      "2024-08-11 23:39:11.882135: E external/local_xla/xla/stream_executor/cuda/cuda_dnn.cc:9261] Unable to register cuDNN factory: Attempting to register factory for plugin cuDNN when one has already been registered\n",
      "2024-08-11 23:39:11.882189: E external/local_xla/xla/stream_executor/cuda/cuda_fft.cc:607] Unable to register cuFFT factory: Attempting to register factory for plugin cuFFT when one has already been registered\n",
      "2024-08-11 23:39:11.883252: E external/local_xla/xla/stream_executor/cuda/cuda_blas.cc:1515] Unable to register cuBLAS factory: Attempting to register factory for plugin cuBLAS when one has already been registered\n",
      "2024-08-11 23:39:11.888841: I tensorflow/core/platform/cpu_feature_guard.cc:182] This TensorFlow binary is optimized to use available CPU instructions in performance-critical operations.\n",
      "To enable the following instructions: AVX2 FMA, in other operations, rebuild TensorFlow with the appropriate compiler flags.\n",
      "2024-08-11 23:39:12.671409: W tensorflow/compiler/tf2tensorrt/utils/py_utils.cc:38] TF-TRT Warning: Could not find TensorRT\n",
      "Selected Tasks: ['codexglue_code_to_text-python']\n",
      "Loading model in fp16\n",
      "Loading checkpoint shards: 100%|██████████████████| 2/2 [00:01<00:00,  1.09it/s]\n",
      "/usr/local/lib/python3.11/dist-packages/transformers/utils/hub.py:374: FutureWarning: The `use_auth_token` argument is deprecated and will be removed in v5 of Transformers. Please use `token` instead.\n",
      "  warnings.warn(\n",
      "/usr/local/lib/python3.11/dist-packages/datasets/table.py:1421: FutureWarning: promote has been superseded by promote_options='default'.\n",
      "  table = cls._concat_blocks(blocks, axis=0)\n",
      "number of problems for this task is 200\n",
      "  0%|                                                   | 0/200 [00:00<?, ?it/s]/usr/local/lib/python3.11/dist-packages/transformers/generation/configuration_utils.py:381: UserWarning: `do_sample` is set to `False`. However, `temperature` is set to `0.2` -- this flag is only used in sample-based generation modes. You should set `do_sample=True` or unset `temperature`.\n",
      "  warnings.warn(\n",
      "/usr/local/lib/python3.11/dist-packages/transformers/generation/configuration_utils.py:386: UserWarning: `do_sample` is set to `False`. However, `top_p` is set to `0.95` -- this flag is only used in sample-based generation modes. You should set `do_sample=True` or unset `top_p`.\n",
      "  warnings.warn(\n",
      "/usr/local/lib/python3.11/dist-packages/transformers/generation/configuration_utils.py:396: UserWarning: `do_sample` is set to `False`. However, `top_k` is set to `0` -- this flag is only used in sample-based generation modes. You should set `do_sample=True` or unset `top_k`.\n",
      "  warnings.warn(\n",
      "  8%|███▏                                      | 15/200 [00:15<03:44,  1.21s/it]/usr/local/lib/python3.11/dist-packages/transformers/generation/utils.py:1281: UserWarning: Input length of input_ids is 1024, but `max_length` is set to 1024. This can lead to unexpected behavior. You should consider increasing `max_new_tokens`.\n",
      "  warnings.warn(\n",
      "100%|█████████████████████████████████████████| 200/200 [10:16<00:00,  3.08s/it]\n",
      "generations were saved at deepseekcoder6.7/generations_deepseek-coder-6-7b-instruct_codexglue_code_to_text-python.json\n",
      "Evaluating generations...\n",
      "{\n",
      "  \"codexglue_code_to_text-python\": {\n",
      "    \"bleu\": 0.01406676342022922,\n",
      "    \"precisions\": [\n",
      "      0.08695652173913043,\n",
      "      0.02187524155522919,\n",
      "      0.007377756847971117,\n",
      "      0.0027899561578318055\n",
      "    ],\n",
      "    \"brevity_penalty\": 1.0,\n",
      "    \"length_ratio\": 5.238532110091743,\n",
      "    \"translation_length\": 13133,\n",
      "    \"reference_length\": 2507\n",
      "  },\n",
      "  \"config\": {\n",
      "    \"prefix\": \"\",\n",
      "    \"do_sample\": false,\n",
      "    \"temperature\": 0.2,\n",
      "    \"top_k\": 0,\n",
      "    \"top_p\": 0.95,\n",
      "    \"n_samples\": 1,\n",
      "    \"eos\": \"<|endoftext|>\",\n",
      "    \"seed\": 0,\n",
      "    \"model\": \"deepseek-ai/deepseek-coder-6.7b-instruct\",\n",
      "    \"modeltype\": \"causal\",\n",
      "    \"peft_model\": null,\n",
      "    \"revision\": null,\n",
      "    \"use_auth_token\": false,\n",
      "    \"trust_remote_code\": true,\n",
      "    \"tasks\": \"codexglue_code_to_text-python\",\n",
      "    \"instruction_tokens\": null,\n",
      "    \"batch_size\": 1,\n",
      "    \"max_length_generation\": 1024,\n",
      "    \"precision\": \"fp16\",\n",
      "    \"load_in_8bit\": false,\n",
      "    \"load_in_4bit\": false,\n",
      "    \"left_padding\": false,\n",
      "    \"limit\": 200,\n",
      "    \"limit_start\": 0,\n",
      "    \"save_every_k_tasks\": -1,\n",
      "    \"postprocess\": true,\n",
      "    \"allow_code_execution\": false,\n",
      "    \"generation_only\": false,\n",
      "    \"load_generations_path\": null,\n",
      "    \"load_data_path\": null,\n",
      "    \"metric_output_path\": \"deepseekcoder6.7/evaluation_codexglue_code_to_text-python_deepseek-coder-6-7b-instruct\",\n",
      "    \"save_generations\": true,\n",
      "    \"load_generations_intermediate_paths\": null,\n",
      "    \"save_generations_path\": \"deepseekcoder6.7/generations_deepseek-coder-6-7b-instruct\",\n",
      "    \"save_references\": false,\n",
      "    \"save_references_path\": \"references.json\",\n",
      "    \"prompt\": \"deepseek\",\n",
      "    \"max_memory_per_gpu\": null,\n",
      "    \"check_references\": false\n",
      "  }\n",
      "}\n"
     ]
    }
   ],
   "source": [
    "!python main.py \\\n",
    "--model {MODEL_HUB}  \\\n",
    "--tasks {TASK} \\\n",
    "--limit 200 \\\n",
    "--do_sample False \\\n",
    "--n_samples 1 \\\n",
    "--batch_size 1 \\\n",
    "--save_generations \\\n",
    "--trust_remote_code \\\n",
    "--prompt deepseek \\\n",
    "--save_generations_path {SAVE_PATH} \\\n",
    "--metric_output_path {EVAL_PATH} \\\n",
    "--max_length_generation 1024 \\\n",
    "--precision fp16"
   ]
  }
 ],
 "metadata": {
  "kernelspec": {
   "display_name": "Python 3 (ipykernel)",
   "language": "python",
   "name": "python3"
  },
  "language_info": {
   "codemirror_mode": {
    "name": "ipython",
    "version": 3
   },
   "file_extension": ".py",
   "mimetype": "text/x-python",
   "name": "python",
   "nbconvert_exporter": "python",
   "pygments_lexer": "ipython3",
   "version": "3.11.7"
  }
 },
 "nbformat": 4,
 "nbformat_minor": 5
}
