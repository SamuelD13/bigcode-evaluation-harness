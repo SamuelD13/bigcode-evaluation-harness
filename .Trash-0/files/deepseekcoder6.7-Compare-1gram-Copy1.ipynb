{
 "cells": [
  {
   "cell_type": "code",
   "execution_count": 1,
   "id": "3947b06b-1bff-4546-b01f-95576b992bee",
   "metadata": {
    "execution": {
     "iopub.execute_input": "2024-08-20T19:45:52.216341Z",
     "iopub.status.busy": "2024-08-20T19:45:52.215536Z",
     "iopub.status.idle": "2024-08-20T19:45:54.728891Z",
     "shell.execute_reply": "2024-08-20T19:45:54.728414Z",
     "shell.execute_reply.started": "2024-08-20T19:45:52.216311Z"
    }
   },
   "outputs": [
    {
     "name": "stdout",
     "output_type": "stream",
     "text": [
      "Requirement already satisfied: evaluate==0.3.0 in /usr/local/lib/python3.11/dist-packages (0.3.0)\n",
      "Requirement already satisfied: datasets>=2.0.0 in /usr/local/lib/python3.11/dist-packages (from evaluate==0.3.0) (2.14.5)\n",
      "Requirement already satisfied: numpy>=1.17 in /usr/local/lib/python3.11/dist-packages (from evaluate==0.3.0) (1.26.3)\n",
      "Requirement already satisfied: dill in /usr/local/lib/python3.11/dist-packages (from evaluate==0.3.0) (0.3.7)\n",
      "Requirement already satisfied: pandas in /usr/local/lib/python3.11/dist-packages (from evaluate==0.3.0) (2.2.0)\n",
      "Requirement already satisfied: requests>=2.19.0 in /usr/local/lib/python3.11/dist-packages (from evaluate==0.3.0) (2.31.0)\n",
      "Requirement already satisfied: tqdm>=4.62.1 in /usr/local/lib/python3.11/dist-packages (from evaluate==0.3.0) (4.66.1)\n",
      "Requirement already satisfied: xxhash in /usr/local/lib/python3.11/dist-packages (from evaluate==0.3.0) (3.4.1)\n",
      "Requirement already satisfied: multiprocess in /usr/local/lib/python3.11/dist-packages (from evaluate==0.3.0) (0.70.15)\n",
      "Requirement already satisfied: fsspec>=2021.05.0 in /usr/local/lib/python3.11/dist-packages (from fsspec[http]>=2021.05.0->evaluate==0.3.0) (2023.6.0)\n",
      "Requirement already satisfied: huggingface-hub>=0.7.0 in /usr/local/lib/python3.11/dist-packages (from evaluate==0.3.0) (0.20.3)\n",
      "Requirement already satisfied: packaging in /usr/local/lib/python3.11/dist-packages (from evaluate==0.3.0) (23.2)\n",
      "Requirement already satisfied: responses<0.19 in /usr/local/lib/python3.11/dist-packages (from evaluate==0.3.0) (0.18.0)\n",
      "Requirement already satisfied: pyarrow>=8.0.0 in /usr/local/lib/python3.11/dist-packages (from datasets>=2.0.0->evaluate==0.3.0) (15.0.0)\n",
      "Requirement already satisfied: aiohttp in /usr/local/lib/python3.11/dist-packages (from datasets>=2.0.0->evaluate==0.3.0) (3.9.1)\n",
      "Requirement already satisfied: pyyaml>=5.1 in /usr/lib/python3/dist-packages (from datasets>=2.0.0->evaluate==0.3.0) (5.4.1)\n",
      "Requirement already satisfied: filelock in /usr/local/lib/python3.11/dist-packages (from huggingface-hub>=0.7.0->evaluate==0.3.0) (3.13.1)\n",
      "Requirement already satisfied: typing-extensions>=3.7.4.3 in /usr/local/lib/python3.11/dist-packages (from huggingface-hub>=0.7.0->evaluate==0.3.0) (4.9.0)\n",
      "Requirement already satisfied: charset-normalizer<4,>=2 in /usr/local/lib/python3.11/dist-packages (from requests>=2.19.0->evaluate==0.3.0) (3.3.2)\n",
      "Requirement already satisfied: idna<4,>=2.5 in /usr/lib/python3/dist-packages (from requests>=2.19.0->evaluate==0.3.0) (3.3)\n",
      "Requirement already satisfied: urllib3<3,>=1.21.1 in /usr/local/lib/python3.11/dist-packages (from requests>=2.19.0->evaluate==0.3.0) (2.0.7)\n",
      "Requirement already satisfied: certifi>=2017.4.17 in /usr/lib/python3/dist-packages (from requests>=2.19.0->evaluate==0.3.0) (2020.6.20)\n",
      "Requirement already satisfied: python-dateutil>=2.8.2 in /usr/local/lib/python3.11/dist-packages (from pandas->evaluate==0.3.0) (2.8.2)\n",
      "Requirement already satisfied: pytz>=2020.1 in /usr/lib/python3/dist-packages (from pandas->evaluate==0.3.0) (2022.1)\n",
      "Requirement already satisfied: tzdata>=2022.7 in /usr/local/lib/python3.11/dist-packages (from pandas->evaluate==0.3.0) (2023.4)\n",
      "Requirement already satisfied: attrs>=17.3.0 in /usr/local/lib/python3.11/dist-packages (from aiohttp->datasets>=2.0.0->evaluate==0.3.0) (23.1.0)\n",
      "Requirement already satisfied: multidict<7.0,>=4.5 in /usr/local/lib/python3.11/dist-packages (from aiohttp->datasets>=2.0.0->evaluate==0.3.0) (6.0.4)\n",
      "Requirement already satisfied: yarl<2.0,>=1.0 in /usr/local/lib/python3.11/dist-packages (from aiohttp->datasets>=2.0.0->evaluate==0.3.0) (1.9.4)\n",
      "Requirement already satisfied: frozenlist>=1.1.1 in /usr/local/lib/python3.11/dist-packages (from aiohttp->datasets>=2.0.0->evaluate==0.3.0) (1.4.1)\n",
      "Requirement already satisfied: aiosignal>=1.1.2 in /usr/local/lib/python3.11/dist-packages (from aiohttp->datasets>=2.0.0->evaluate==0.3.0) (1.3.1)\n",
      "Requirement already satisfied: six>=1.5 in /usr/lib/python3/dist-packages (from python-dateutil>=2.8.2->pandas->evaluate==0.3.0) (1.16.0)\n",
      "\u001b[33mWARNING: Running pip as the 'root' user can result in broken permissions and conflicting behaviour with the system package manager. It is recommended to use a virtual environment instead: https://pip.pypa.io/warnings/venv\u001b[0m\u001b[33m\n",
      "\u001b[0m"
     ]
    }
   ],
   "source": [
    "!pip install evaluate==0.3.0"
   ]
  },
  {
   "cell_type": "code",
   "execution_count": 4,
   "id": "92ef71e4-3eaf-459e-81fa-3857f3d2c1d6",
   "metadata": {
    "execution": {
     "iopub.execute_input": "2024-08-20T19:46:25.748769Z",
     "iopub.status.busy": "2024-08-20T19:46:25.747948Z",
     "iopub.status.idle": "2024-08-20T19:46:25.752889Z",
     "shell.execute_reply": "2024-08-20T19:46:25.752316Z",
     "shell.execute_reply.started": "2024-08-20T19:46:25.748744Z"
    }
   },
   "outputs": [
    {
     "name": "stdout",
     "output_type": "stream",
     "text": [
      "deepseekcoder6.7/generations_deepseek-coder-explain-6-7b-instruct\n",
      "deepseekcoder6.7/evaluation_compare_deepseek-coder-explain-6-7b-instruct\n"
     ]
    }
   ],
   "source": [
    "MODEL_HUB = \"deepseek-ai/deepseek-coder-6.7b-instruct\"\n",
    "MODEL = \"deepseek-coder-explain-6-7b-instruct\"\n",
    "PATH = \"deepseekcoder6.7\"\n",
    "TASK = \"compareeval\"\n",
    "QUANT = \"\"\n",
    "PEFT = \"Sam137/deepseek6.7-explain-coder\"\n",
    "\n",
    "def create_path(model, path, task, quant):\n",
    "    SAVE_PATH = path + \"/generations_\" + model + quant\n",
    "    LOAD_PATH = SAVE_PATH + \"_\" + task + \".json\"\n",
    "    EVAL_PATH = PATH + \"/evaluation_\" + TASK + \"_\" + model + quant\n",
    "    return SAVE_PATH, LOAD_PATH, EVAL_PATH\n",
    "\n",
    "SAVE_PATH, _, EVAL_PATH = create_path(MODEL, PATH, TASK, QUANT)\n",
    "print(SAVE_PATH)\n",
    "print(EVAL_PATH)"
   ]
  },
  {
   "cell_type": "code",
   "execution_count": 5,
   "id": "14847a69-fe96-4c07-8447-9499a6ae5836",
   "metadata": {
    "execution": {
     "iopub.execute_input": "2024-08-20T19:46:28.493393Z",
     "iopub.status.busy": "2024-08-20T19:46:28.492605Z",
     "iopub.status.idle": "2024-08-20T19:46:33.944827Z",
     "shell.execute_reply": "2024-08-20T19:46:33.944154Z",
     "shell.execute_reply.started": "2024-08-20T19:46:28.493393Z"
    }
   },
   "outputs": [
    {
     "name": "stdout",
     "output_type": "stream",
     "text": [
      "2024-08-20 19:46:31.037074: E external/local_xla/xla/stream_executor/cuda/cuda_dnn.cc:9261] Unable to register cuDNN factory: Attempting to register factory for plugin cuDNN when one has already been registered\n",
      "2024-08-20 19:46:31.037134: E external/local_xla/xla/stream_executor/cuda/cuda_fft.cc:607] Unable to register cuFFT factory: Attempting to register factory for plugin cuFFT when one has already been registered\n",
      "2024-08-20 19:46:31.038193: E external/local_xla/xla/stream_executor/cuda/cuda_blas.cc:1515] Unable to register cuBLAS factory: Attempting to register factory for plugin cuBLAS when one has already been registered\n",
      "2024-08-20 19:46:31.044055: I tensorflow/core/platform/cpu_feature_guard.cc:182] This TensorFlow binary is optimized to use available CPU instructions in performance-critical operations.\n",
      "To enable the following instructions: AVX2 FMA, in other operations, rebuild TensorFlow with the appropriate compiler flags.\n",
      "2024-08-20 19:46:31.872348: W tensorflow/compiler/tf2tensorrt/utils/py_utils.cc:38] TF-TRT Warning: Could not find TensorRT\n",
      "usage: main.py [-h] [--prefix PREFIX] [--do_sample [DO_SAMPLE]]\n",
      "               [--no_do_sample] [--temperature TEMPERATURE] [--top_k TOP_K]\n",
      "               [--top_p TOP_P] [--n_samples N_SAMPLES] [--eos EOS]\n",
      "               [--seed SEED] [--model MODEL] [--modeltype MODELTYPE]\n",
      "               [--peft_model PEFT_MODEL] [--revision REVISION]\n",
      "               [--use_auth_token] [--trust_remote_code]\n",
      "               [--tasks {apps-competition,apps-interview,apps-introductory,codexglue_code_to_text-go,codexglue_code_to_text-java,codexglue_code_to_text-javascript,codexglue_code_to_text-php,codexglue_code_to_text-python,codexglue_code_to_text-python-left,codexglue_code_to_text-ruby,codexglue_text_to_text-da_en,codexglue_text_to_text-lv_en,codexglue_text_to_text-no_en,codexglue_text_to_text-zh_en,compareeval,conala,concode,ds1000-all-completion,ds1000-all-insertion,ds1000-matplotlib-completion,ds1000-matplotlib-insertion,ds1000-numpy-completion,ds1000-numpy-insertion,ds1000-pandas-completion,ds1000-pandas-insertion,ds1000-pytorch-completion,ds1000-pytorch-insertion,ds1000-scipy-completion,ds1000-scipy-insertion,ds1000-sklearn-completion,ds1000-sklearn-insertion,ds1000-tensorflow-completion,ds1000-tensorflow-insertion,humaneval,humaneval-unstripped,humanevalexplaindescribe-cpp,humanevalexplaindescribe-go,humanevalexplaindescribe-java,humanevalexplaindescribe-js,humanevalexplaindescribe-python,humanevalexplaindescribe-rust,humanevalexplainsynthesize-cpp,humanevalexplainsynthesize-go,humanevalexplainsynthesize-java,humanevalexplainsynthesize-js,humanevalexplainsynthesize-python,humanevalexplainsynthesize-rust,humanevalfixdocs-cpp,humanevalfixdocs-go,humanevalfixdocs-java,humanevalfixdocs-js,humanevalfixdocs-python,humanevalfixdocs-rust,humanevalfixtests-cpp,humanevalfixtests-go,humanevalfixtests-java,humanevalfixtests-js,humanevalfixtests-python,humanevalfixtests-rust,humanevalplus,humanevalplus-unstripped,humanevalsynthesize-cpp,humanevalsynthesize-go,humanevalsynthesize-java,humanevalsynthesize-js,humanevalsynthesize-python,humanevalsynthesize-rust,instruct-humaneval,instruct-humaneval-nocontext,instruct_wizard_humaneval,mbpp,mbppplus,mercury,multiple-cpp,multiple-cs,multiple-d,multiple-go,multiple-java,multiple-jl,multiple-js,multiple-lua,multiple-php,multiple-pl,multiple-py,multiple-r,multiple-rb,multiple-rkt,multiple-rs,multiple-scala,multiple-sh,multiple-swift,multiple-ts,pal-gsm8k-greedy,pal-gsm8k-majority_voting,pal-gsmhard-greedy,pal-gsmhard-majority_voting,parity,perturbed-humaneval-format-num_seeds_1,perturbed-humaneval-format-num_seeds_10,perturbed-humaneval-format-num_seeds_2,perturbed-humaneval-format-num_seeds_3,perturbed-humaneval-format-num_seeds_4,perturbed-humaneval-format-num_seeds_5,perturbed-humaneval-format-num_seeds_6,perturbed-humaneval-format-num_seeds_7,perturbed-humaneval-format-num_seeds_8,perturbed-humaneval-format-num_seeds_9,perturbed-humaneval-func_name-num_seeds_1,perturbed-humaneval-func_name-num_seeds_10,perturbed-humaneval-func_name-num_seeds_2,perturbed-humaneval-func_name-num_seeds_3,perturbed-humaneval-func_name-num_seeds_4,perturbed-humaneval-func_name-num_seeds_5,perturbed-humaneval-func_name-num_seeds_6,perturbed-humaneval-func_name-num_seeds_7,perturbed-humaneval-func_name-num_seeds_8,perturbed-humaneval-func_name-num_seeds_9,perturbed-humaneval-natgen-num_seeds_1,perturbed-humaneval-natgen-num_seeds_10,perturbed-humaneval-natgen-num_seeds_2,perturbed-humaneval-natgen-num_seeds_3,perturbed-humaneval-natgen-num_seeds_4,perturbed-humaneval-natgen-num_seeds_5,perturbed-humaneval-natgen-num_seeds_6,perturbed-humaneval-natgen-num_seeds_7,perturbed-humaneval-natgen-num_seeds_8,perturbed-humaneval-natgen-num_seeds_9,perturbed-humaneval-nlaugmenter-num_seeds_1,perturbed-humaneval-nlaugmenter-num_seeds_10,perturbed-humaneval-nlaugmenter-num_seeds_2,perturbed-humaneval-nlaugmenter-num_seeds_3,perturbed-humaneval-nlaugmenter-num_seeds_4,perturbed-humaneval-nlaugmenter-num_seeds_5,perturbed-humaneval-nlaugmenter-num_seeds_6,perturbed-humaneval-nlaugmenter-num_seeds_7,perturbed-humaneval-nlaugmenter-num_seeds_8,perturbed-humaneval-nlaugmenter-num_seeds_9,python_bugs,quixbugs,santacoder_fim,starcoder_fim,studenteval}]\n",
      "               [--instruction_tokens INSTRUCTION_TOKENS]\n",
      "               [--batch_size BATCH_SIZE]\n",
      "               [--max_length_generation MAX_LENGTH_GENERATION]\n",
      "               [--precision PRECISION] [--load_in_8bit] [--load_in_4bit]\n",
      "               [--left_padding] [--limit LIMIT] [--limit_start LIMIT_START]\n",
      "               [--save_every_k_tasks SAVE_EVERY_K_TASKS] [--postprocess]\n",
      "               [--allow_code_execution] [--generation_only]\n",
      "               [--load_generations_path LOAD_GENERATIONS_PATH]\n",
      "               [--load_data_path LOAD_DATA_PATH]\n",
      "               [--metric_output_path METRIC_OUTPUT_PATH] [--save_generations]\n",
      "               [--load_generations_intermediate_paths [LOAD_GENERATIONS_INTERMEDIATE_PATHS ...]]\n",
      "               [--save_generations_path SAVE_GENERATIONS_PATH]\n",
      "               [--save_references]\n",
      "               [--save_references_path SAVE_REFERENCES_PATH] [--prompt PROMPT]\n",
      "               [--max_memory_per_gpu MAX_MEMORY_PER_GPU] [--check_references]\n",
      "main.py: error: argument --tasks: invalid choice: 'compare' (choose from 'apps-competition', 'apps-interview', 'apps-introductory', 'codexglue_code_to_text-go', 'codexglue_code_to_text-java', 'codexglue_code_to_text-javascript', 'codexglue_code_to_text-php', 'codexglue_code_to_text-python', 'codexglue_code_to_text-python-left', 'codexglue_code_to_text-ruby', 'codexglue_text_to_text-da_en', 'codexglue_text_to_text-lv_en', 'codexglue_text_to_text-no_en', 'codexglue_text_to_text-zh_en', 'compareeval', 'conala', 'concode', 'ds1000-all-completion', 'ds1000-all-insertion', 'ds1000-matplotlib-completion', 'ds1000-matplotlib-insertion', 'ds1000-numpy-completion', 'ds1000-numpy-insertion', 'ds1000-pandas-completion', 'ds1000-pandas-insertion', 'ds1000-pytorch-completion', 'ds1000-pytorch-insertion', 'ds1000-scipy-completion', 'ds1000-scipy-insertion', 'ds1000-sklearn-completion', 'ds1000-sklearn-insertion', 'ds1000-tensorflow-completion', 'ds1000-tensorflow-insertion', 'humaneval', 'humaneval-unstripped', 'humanevalexplaindescribe-cpp', 'humanevalexplaindescribe-go', 'humanevalexplaindescribe-java', 'humanevalexplaindescribe-js', 'humanevalexplaindescribe-python', 'humanevalexplaindescribe-rust', 'humanevalexplainsynthesize-cpp', 'humanevalexplainsynthesize-go', 'humanevalexplainsynthesize-java', 'humanevalexplainsynthesize-js', 'humanevalexplainsynthesize-python', 'humanevalexplainsynthesize-rust', 'humanevalfixdocs-cpp', 'humanevalfixdocs-go', 'humanevalfixdocs-java', 'humanevalfixdocs-js', 'humanevalfixdocs-python', 'humanevalfixdocs-rust', 'humanevalfixtests-cpp', 'humanevalfixtests-go', 'humanevalfixtests-java', 'humanevalfixtests-js', 'humanevalfixtests-python', 'humanevalfixtests-rust', 'humanevalplus', 'humanevalplus-unstripped', 'humanevalsynthesize-cpp', 'humanevalsynthesize-go', 'humanevalsynthesize-java', 'humanevalsynthesize-js', 'humanevalsynthesize-python', 'humanevalsynthesize-rust', 'instruct-humaneval', 'instruct-humaneval-nocontext', 'instruct_wizard_humaneval', 'mbpp', 'mbppplus', 'mercury', 'multiple-cpp', 'multiple-cs', 'multiple-d', 'multiple-go', 'multiple-java', 'multiple-jl', 'multiple-js', 'multiple-lua', 'multiple-php', 'multiple-pl', 'multiple-py', 'multiple-r', 'multiple-rb', 'multiple-rkt', 'multiple-rs', 'multiple-scala', 'multiple-sh', 'multiple-swift', 'multiple-ts', 'pal-gsm8k-greedy', 'pal-gsm8k-majority_voting', 'pal-gsmhard-greedy', 'pal-gsmhard-majority_voting', 'parity', 'perturbed-humaneval-format-num_seeds_1', 'perturbed-humaneval-format-num_seeds_10', 'perturbed-humaneval-format-num_seeds_2', 'perturbed-humaneval-format-num_seeds_3', 'perturbed-humaneval-format-num_seeds_4', 'perturbed-humaneval-format-num_seeds_5', 'perturbed-humaneval-format-num_seeds_6', 'perturbed-humaneval-format-num_seeds_7', 'perturbed-humaneval-format-num_seeds_8', 'perturbed-humaneval-format-num_seeds_9', 'perturbed-humaneval-func_name-num_seeds_1', 'perturbed-humaneval-func_name-num_seeds_10', 'perturbed-humaneval-func_name-num_seeds_2', 'perturbed-humaneval-func_name-num_seeds_3', 'perturbed-humaneval-func_name-num_seeds_4', 'perturbed-humaneval-func_name-num_seeds_5', 'perturbed-humaneval-func_name-num_seeds_6', 'perturbed-humaneval-func_name-num_seeds_7', 'perturbed-humaneval-func_name-num_seeds_8', 'perturbed-humaneval-func_name-num_seeds_9', 'perturbed-humaneval-natgen-num_seeds_1', 'perturbed-humaneval-natgen-num_seeds_10', 'perturbed-humaneval-natgen-num_seeds_2', 'perturbed-humaneval-natgen-num_seeds_3', 'perturbed-humaneval-natgen-num_seeds_4', 'perturbed-humaneval-natgen-num_seeds_5', 'perturbed-humaneval-natgen-num_seeds_6', 'perturbed-humaneval-natgen-num_seeds_7', 'perturbed-humaneval-natgen-num_seeds_8', 'perturbed-humaneval-natgen-num_seeds_9', 'perturbed-humaneval-nlaugmenter-num_seeds_1', 'perturbed-humaneval-nlaugmenter-num_seeds_10', 'perturbed-humaneval-nlaugmenter-num_seeds_2', 'perturbed-humaneval-nlaugmenter-num_seeds_3', 'perturbed-humaneval-nlaugmenter-num_seeds_4', 'perturbed-humaneval-nlaugmenter-num_seeds_5', 'perturbed-humaneval-nlaugmenter-num_seeds_6', 'perturbed-humaneval-nlaugmenter-num_seeds_7', 'perturbed-humaneval-nlaugmenter-num_seeds_8', 'perturbed-humaneval-nlaugmenter-num_seeds_9', 'python_bugs', 'quixbugs', 'santacoder_fim', 'starcoder_fim', 'studenteval')\n"
     ]
    }
   ],
   "source": [
    "!python main.py \\\n",
    "--model {MODEL_HUB}  \\\n",
    "--tasks {TASK} \\\n",
    "--do_sample False \\\n",
    "--n_samples 1 \\\n",
    "--batch_size 1 \\\n",
    "--save_generations \\\n",
    "--trust_remote_code \\\n",
    "--prompt deepseek \\\n",
    "--save_generations_path {SAVE_PATH} \\\n",
    "--metric_output_path {EVAL_PATH} \\\n",
    "--max_length_generation 1024 \\\n",
    "--precision bf16"
   ]
  }
 ],
 "metadata": {
  "kernelspec": {
   "display_name": "Python 3 (ipykernel)",
   "language": "python",
   "name": "python3"
  },
  "language_info": {
   "codemirror_mode": {
    "name": "ipython",
    "version": 3
   },
   "file_extension": ".py",
   "mimetype": "text/x-python",
   "name": "python",
   "nbconvert_exporter": "python",
   "pygments_lexer": "ipython3",
   "version": "3.11.7"
  }
 },
 "nbformat": 4,
 "nbformat_minor": 5
}
