{
 "cells": [
  {
   "cell_type": "code",
   "execution_count": 1,
   "metadata": {},
   "outputs": [
    {
     "name": "stdout",
     "output_type": "stream",
     "text": [
      "['evaluation_humanevalexplainpython_deepseek-coder-6-7b-instruct4bit', 'evaluation_humanevalexplainpython_deepseek-coder-6-7b-instruct8bit', 'evaluation_humanevalexplainpython_deepseek-coder-6-7b-instruct']\n",
      "['deepseek-coder-6-7b-instruct4bit', 'deepseek-coder-6-7b-instruct8bit', 'deepseek-coder-6-7b-instruct']\n"
     ]
    }
   ],
   "source": [
    "import json\n",
    "import os\n",
    "import matplotlib.pyplot as plt\n",
    "import numpy as np\n",
    "\n",
    "directory = 'deepseekcoder6.7/'\n",
    "\n",
    "FILE = \"evaluation_humanevalexplainpython_deepseek-coder-6-7b-instruct\"\n",
    "model = \"deepseek-coder-6-7b-instruct\"\n",
    "file_names = []\n",
    "models = []\n",
    "for quant in [\"4bit\", \"8bit\", \"\"]:\n",
    "    file_names.append(FILE + quant)\n",
    "    models.append(model + quant)\n",
    "print(file_names)\n",
    "print(models)"
   ]
  },
  {
   "cell_type": "code",
   "execution_count": 2,
   "metadata": {},
   "outputs": [
    {
     "name": "stdout",
     "output_type": "stream",
     "text": [
      "evaluation_humanevalexplainpython_deepseek-coder-6-7b-instruct4bit: pass@1 = 0.5670731707317073\n",
      "evaluation_humanevalexplainpython_deepseek-coder-6-7b-instruct8bit: pass@1 = 0.5975609756097561\n",
      "evaluation_humanevalexplainpython_deepseek-coder-6-7b-instruct: pass@1 = 0.6280487804878049\n",
      "[0.5670731707317073, 0.5975609756097561, 0.6280487804878049]\n"
     ]
    }
   ],
   "source": [
    "metrics = []\n",
    "for file_name in file_names:\n",
    "    file_path = os.path.join(directory, file_name)\n",
    "    \n",
    "    if os.path.exists(file_path):\n",
    "        with open(file_path, 'r') as file:\n",
    "            data = json.load(file)\n",
    "            \n",
    "            # Extract the \"pass@1\" value\n",
    "            try:\n",
    "                pass1_value = data.get('humanevalexplainsynthesize-python', {}).get('pass@1')\n",
    "                if pass1_value is not None:\n",
    "                    print(f\"{file_name}: pass@1 = {pass1_value}\")\n",
    "                    metrics.append(pass1_value)\n",
    "                else:\n",
    "                    print(f\"{file_name}: 'pass@1' key not found.\")\n",
    "            except json.JSONDecodeError:\n",
    "                print(f\"{file_name}: Error decoding JSON.\")\n",
    "    else:\n",
    "        print(f\"{file_name}: File not found.\")\n",
    "        \n",
    "print(metrics)"
   ]
  },
  {
   "cell_type": "code",
   "execution_count": 3,
   "metadata": {},
   "outputs": [
    {
     "data": {
      "image/png": "[encoded data removed]",
      "text/plain": [
       "<Figure size 720x432 with 1 Axes>"
      ]
     },
     "metadata": {
      "needs_background": "light"
     },
     "output_type": "display_data"
    }
   ],
   "source": [
    "xticks_positions = [1.5, 2.5, 3.5]\n",
    "\n",
    "plt.figure(figsize=(10, 6))\n",
    "plt.bar(models, metrics, color=['skyblue'])\n",
    "plt.title('HumanEvalExplain')\n",
    "plt.xlabel('')\n",
    "plt.ylabel('Pass@1')\n",
    "plt.grid(True)\n",
    "plt.savefig(\"figures/deepseekcoder6-7_quantization\")\n",
    "plt.show()"
   ]
  },
  {
   "cell_type": "code",
   "execution_count": null,
   "metadata": {},
   "outputs": [],
   "source": []
  }
 ],
 "metadata": {
  "kernelspec": {
   "display_name": "Python 3",
   "language": "python",
   "name": "python3"
  },
  "language_info": {
   "codemirror_mode": {
    "name": "ipython",
    "version": 3
   },
   "file_extension": ".py",
   "mimetype": "text/x-python",
   "name": "python",
   "nbconvert_exporter": "python",
   "pygments_lexer": "ipython3",
   "version": "3.8.3"
  }
 },
 "nbformat": 4,
 "nbformat_minor": 4
}
