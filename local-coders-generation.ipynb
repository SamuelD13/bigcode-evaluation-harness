{
 "cells": [
  {
   "cell_type": "code",
   "execution_count": 1,
   "metadata": {
    "execution": {
     "iopub.execute_input": "2024-08-20T23:07:35.223783Z",
     "iopub.status.busy": "2024-08-20T23:07:35.223493Z",
     "iopub.status.idle": "2024-08-20T23:07:35.519910Z",
     "shell.execute_reply": "2024-08-20T23:07:35.518591Z",
     "shell.execute_reply.started": "2024-08-20T23:07:35.223764Z"
    }
   },
   "outputs": [
    {
     "name": "stdout",
     "output_type": "stream",
     "text": [
      "Token will not been saved to git credential helper. Pass `add_to_git_credential=True` if you want to set the git credential as well.\n",
      "Token is valid (permission: write).\n",
      "Your token has been saved to /root/.cache/huggingface/token\n",
      "Login successful\n"
     ]
    }
   ],
   "source": [
    "from huggingface_hub import login\n",
    "\n",
    "with open('key.txt', 'r') as file:\n",
    "    key = file.readline().strip()\n",
    "\n",
    "login(token=key)"
   ]
  },
  {
   "cell_type": "code",
   "execution_count": 4,
   "metadata": {
    "execution": {
     "iopub.execute_input": "2024-08-20T21:42:19.321637Z",
     "iopub.status.busy": "2024-08-20T21:42:19.321414Z",
     "iopub.status.idle": "2024-08-20T21:43:35.357002Z",
     "shell.execute_reply": "2024-08-20T21:43:35.356402Z",
     "shell.execute_reply.started": "2024-08-20T21:42:19.321620Z"
    }
   },
   "outputs": [
    {
     "data": {
      "application/vnd.jupyter.widget-view+json": {
       "model_id": "c2ee7cc5a93540958157d59fb32de38e",
       "version_major": 2,
       "version_minor": 0
      },
      "text/plain": [
       "adapter_config.json:   0%|          | 0.00/580 [00:00<?, ?B/s]"
      ]
     },
     "metadata": {},
     "output_type": "display_data"
    },
    {
     "data": {
      "application/vnd.jupyter.widget-view+json": {
       "model_id": "1aeddbdc006748b38667c25a60aa725d",
       "version_major": 2,
       "version_minor": 0
      },
      "text/plain": [
       "config.json:   0%|          | 0.00/632 [00:00<?, ?B/s]"
      ]
     },
     "metadata": {},
     "output_type": "display_data"
    },
    {
     "data": {
      "application/vnd.jupyter.widget-view+json": {
       "model_id": "96472165392e46bab2fc4482f32c3228",
       "version_major": 2,
       "version_minor": 0
      },
      "text/plain": [
       "model.safetensors.index.json:   0%|          | 0.00/25.1k [00:00<?, ?B/s]"
      ]
     },
     "metadata": {},
     "output_type": "display_data"
    },
    {
     "data": {
      "application/vnd.jupyter.widget-view+json": {
       "model_id": "405b011ed05d41bc819dac839abaf001",
       "version_major": 2,
       "version_minor": 0
      },
      "text/plain": [
       "Downloading shards:   0%|          | 0/2 [00:00<?, ?it/s]"
      ]
     },
     "metadata": {},
     "output_type": "display_data"
    },
    {
     "data": {
      "application/vnd.jupyter.widget-view+json": {
       "model_id": "63e343e6a1a443649ac04475e6a25681",
       "version_major": 2,
       "version_minor": 0
      },
      "text/plain": [
       "model-00001-of-00002.safetensors:   0%|          | 0.00/9.98G [00:00<?, ?B/s]"
      ]
     },
     "metadata": {},
     "output_type": "display_data"
    },
    {
     "data": {
      "application/vnd.jupyter.widget-view+json": {
       "model_id": "b1e2cc66929d43978d3629017e300e09",
       "version_major": 2,
       "version_minor": 0
      },
      "text/plain": [
       "model-00002-of-00002.safetensors:   0%|          | 0.00/3.50G [00:00<?, ?B/s]"
      ]
     },
     "metadata": {},
     "output_type": "display_data"
    },
    {
     "data": {
      "application/vnd.jupyter.widget-view+json": {
       "model_id": "747f10c78f4c42dbb75ffb638f120ea4",
       "version_major": 2,
       "version_minor": 0
      },
      "text/plain": [
       "Loading checkpoint shards:   0%|          | 0/2 [00:00<?, ?it/s]"
      ]
     },
     "metadata": {},
     "output_type": "display_data"
    },
    {
     "data": {
      "application/vnd.jupyter.widget-view+json": {
       "model_id": "0cde83b300da40f2b4d65f236fd339e1",
       "version_major": 2,
       "version_minor": 0
      },
      "text/plain": [
       "generation_config.json:   0%|          | 0.00/119 [00:00<?, ?B/s]"
      ]
     },
     "metadata": {},
     "output_type": "display_data"
    },
    {
     "data": {
      "application/vnd.jupyter.widget-view+json": {
       "model_id": "2739143f034c477a8fbaadc0741ef8b3",
       "version_major": 2,
       "version_minor": 0
      },
      "text/plain": [
       "adapter_model.safetensors:   0%|          | 0.00/80.0M [00:00<?, ?B/s]"
      ]
     },
     "metadata": {},
     "output_type": "display_data"
    }
   ],
   "source": [
    "from transformers import AutoModelForCausalLM, AutoTokenizer\n",
    "MODEL = \"Sam137/deepseek6.7-local-coder\"\n",
    "device_map = {\"\": 0}\n",
    "model = AutoModelForCausalLM.from_pretrained(\n",
    "    MODEL,\n",
    "    device_map=device_map,\n",
    "    use_cache=False,\n",
    "    trust_remote_code=True,\n",
    ")\n",
    "tokenizer = AutoTokenizer.from_pretrained(\"deepseek-ai/deepseek-coder-6.7b-base\", trust_remote_code=True)"
   ]
  },
  {
   "cell_type": "code",
   "execution_count": 9,
   "metadata": {
    "execution": {
     "iopub.execute_input": "2024-08-20T21:49:40.606358Z",
     "iopub.status.busy": "2024-08-20T21:49:40.606142Z",
     "iopub.status.idle": "2024-08-20T21:51:33.611700Z",
     "shell.execute_reply": "2024-08-20T21:51:33.611294Z",
     "shell.execute_reply.started": "2024-08-20T21:49:40.606341Z"
    }
   },
   "outputs": [
    {
     "name": "stderr",
     "output_type": "stream",
     "text": [
      "Setting `pad_token_id` to `eos_token_id`:32014 for open-end generation.\n"
     ]
    },
    {
     "name": "stdout",
     "output_type": "stream",
     "text": [
      "# -*- coding: utf-8 -*-\n",
      "\n",
      "import calendar\n",
      "from dateutil.relativedelta import relativedelta\n",
      "\n",
      "from odoo import fields, models, api, _\n",
      "from odoo.exceptions import UserError\n",
      "\n",
      "\n",
      "class ResCompany(models.Model):\n",
      "    _inherit = 'res.company'\n",
      "\n",
      "    def _autorise_lock_date_changes(self, vals):\n",
      "        '''Check the lock dates for the current companies. This can't be done in a api.constrains because we need\n",
      "        to perform some comparison between new/old values. This method forces the lock dates to be irreversible.\n",
      "        * You cannot set stricter restrictions on advisors than on users.\n",
      "        * You cannot set stricter restrictions on users than on advisors.\n",
      "        * You cannot set stricter restrictions on advisors than on managers.\n",
      "        * You cannot set stricter restrictions on managers than on superusers.\n",
      "        '''\n",
      "        if 'lock_date_end' in vals and vals['lock_date_end']:\n",
      "            if self.env.user.has_group('account.group_account_manager'):\n",
      "                if vals['lock_date_end'] < self.env.user.company_id.lock_date_end:\n",
      "                    raise UserError(_('You cannot set a lock date end date that is earlier than the current one.'))\n",
      "            elif self.env.user.has_group('account.group_account_advisor'):\n",
      "                if vals['lock_date_end'] < self.env.user.company_id.lock_date_end:\n",
      "                    raise UserError(_('You cannot set a lock date end date that is earlier than the current one.'))\n",
      "            elif self.env.user.has_group('account.group_account_user'):\n",
      "                if vals['lock_date_end'] < self.env.user.company_id.lock_date_end:\n",
      "                    raise UserError(_('You cannot set a lock date end date that is earlier than the current one.'))\n",
      "        if 'lock_date_start' in vals and vals['lock_date_start']:\n",
      "            if self.env.user.has_group('account.group_account_\n"
     ]
    }
   ],
   "source": [
    "code_input = \"\"\"# -*- coding: utf-8 -*-\n",
    "\n",
    "import calendar\n",
    "from dateutil.relativedelta import relativedelta\n",
    "\n",
    "from odoo import fields, models, api, _\n",
    "from odoo.exceptions import UserError\n",
    "\n",
    "\n",
    "class ResCompany(models.Model):\n",
    "    _inherit = 'res.company'\n",
    "\n",
    "    def _autorise_lock_date_changes(self, vals):\n",
    "        '''Check the lock dates for the current companies. This can't be done in a api.constrains because we need\n",
    "        to perform some comparison between new/old values. This method forces the lock dates to be irreversible.\n",
    "        * You cannot set stricter restrictions on advisors than on users.\"\"\"\n",
    "\n",
    "inputs = tokenizer(code_input, return_tensors=\"pt\").to(model.device)\n",
    "outputs = model.generate(**inputs, max_length=512)\n",
    "print(tokenizer.decode(outputs[0], skip_special_tokens=True))"
   ]
  },
  {
   "cell_type": "code",
   "execution_count": 6,
   "metadata": {
    "execution": {
     "iopub.execute_input": "2024-08-20T22:06:55.935177Z",
     "iopub.status.busy": "2024-08-20T22:06:55.934947Z",
     "iopub.status.idle": "2024-08-20T22:07:14.115786Z",
     "shell.execute_reply": "2024-08-20T22:07:14.115173Z",
     "shell.execute_reply.started": "2024-08-20T22:06:55.935159Z"
    }
   },
   "outputs": [
    {
     "data": {
      "application/vnd.jupyter.widget-view+json": {
       "model_id": "a0100e73d43c46f6b19587a0013506c4",
       "version_major": 2,
       "version_minor": 0
      },
      "text/plain": [
       "adapter_config.json:   0%|          | 0.00/580 [00:00<?, ?B/s]"
      ]
     },
     "metadata": {},
     "output_type": "display_data"
    },
    {
     "data": {
      "application/vnd.jupyter.widget-view+json": {
       "model_id": "c6dd0f58baaa4dfc83fbb5f9814f350c",
       "version_major": 2,
       "version_minor": 0
      },
      "text/plain": [
       "config.json:   0%|          | 0.00/631 [00:00<?, ?B/s]"
      ]
     },
     "metadata": {},
     "output_type": "display_data"
    },
    {
     "data": {
      "application/vnd.jupyter.widget-view+json": {
       "model_id": "1f7e20ad562f46b680a65138d9537a31",
       "version_major": 2,
       "version_minor": 0
      },
      "text/plain": [
       "pytorch_model.bin:   0%|          | 0.00/2.69G [00:00<?, ?B/s]"
      ]
     },
     "metadata": {},
     "output_type": "display_data"
    },
    {
     "data": {
      "application/vnd.jupyter.widget-view+json": {
       "model_id": "8d23253bc46c4a3e8f52f829b2a402a4",
       "version_major": 2,
       "version_minor": 0
      },
      "text/plain": [
       "generation_config.json:   0%|          | 0.00/119 [00:00<?, ?B/s]"
      ]
     },
     "metadata": {},
     "output_type": "display_data"
    },
    {
     "data": {
      "application/vnd.jupyter.widget-view+json": {
       "model_id": "b6b7085225074f61a79b45455556b25d",
       "version_major": 2,
       "version_minor": 0
      },
      "text/plain": [
       "adapter_model.safetensors:   0%|          | 0.00/30.0M [00:00<?, ?B/s]"
      ]
     },
     "metadata": {},
     "output_type": "display_data"
    },
    {
     "data": {
      "application/vnd.jupyter.widget-view+json": {
       "model_id": "8f82f29a90734e8ab9574dbcbf81dd64",
       "version_major": 2,
       "version_minor": 0
      },
      "text/plain": [
       "tokenizer_config.json:   0%|          | 0.00/793 [00:00<?, ?B/s]"
      ]
     },
     "metadata": {},
     "output_type": "display_data"
    },
    {
     "data": {
      "application/vnd.jupyter.widget-view+json": {
       "model_id": "134f49bf6e404cf0af764b1e3aebd0c6",
       "version_major": 2,
       "version_minor": 0
      },
      "text/plain": [
       "tokenizer.json:   0%|          | 0.00/1.37M [00:00<?, ?B/s]"
      ]
     },
     "metadata": {},
     "output_type": "display_data"
    },
    {
     "data": {
      "application/vnd.jupyter.widget-view+json": {
       "model_id": "f0116d685b124faab6519fa3dfe6c187",
       "version_major": 2,
       "version_minor": 0
      },
      "text/plain": [
       "special_tokens_map.json:   0%|          | 0.00/482 [00:00<?, ?B/s]"
      ]
     },
     "metadata": {},
     "output_type": "display_data"
    }
   ],
   "source": [
    "from transformers import AutoModelForCausalLM, AutoTokenizer\n",
    "MODEL = \"Sam137/deepseek-local-coder\"\n",
    "device_map = {\"\": 0}\n",
    "model = AutoModelForCausalLM.from_pretrained(\n",
    "    MODEL,\n",
    "    device_map=device_map,\n",
    "    use_cache=False,\n",
    "    trust_remote_code=True,\n",
    ")\n",
    "tokenizer = AutoTokenizer.from_pretrained(\"deepseek-ai/deepseek-coder-1.3b-base\", trust_remote_code=True)"
   ]
  },
  {
   "cell_type": "code",
   "execution_count": 7,
   "metadata": {
    "execution": {
     "iopub.execute_input": "2024-08-20T22:07:14.118154Z",
     "iopub.status.busy": "2024-08-20T22:07:14.118011Z",
     "iopub.status.idle": "2024-08-20T22:07:40.255232Z",
     "shell.execute_reply": "2024-08-20T22:07:40.254744Z",
     "shell.execute_reply.started": "2024-08-20T22:07:14.118139Z"
    }
   },
   "outputs": [
    {
     "name": "stderr",
     "output_type": "stream",
     "text": [
      "/usr/local/lib/python3.11/dist-packages/transformers/generation/utils.py:1473: UserWarning: You have modified the pretrained model configuration to control generation. This is a deprecated strategy to control generation and will be removed soon, in a future version. Please use and modify the model generation configuration (see https://huggingface.co/docs/transformers/generation_strategies#default-text-generation-configuration )\n",
      "  warnings.warn(\n",
      "Setting `pad_token_id` to `eos_token_id`:32014 for open-end generation.\n"
     ]
    },
    {
     "name": "stdout",
     "output_type": "stream",
     "text": [
      "# -*- coding: utf-8 -*-\n",
      "\n",
      "import calendar\n",
      "from dateutil.relativedelta import relativedelta\n",
      "\n",
      "from odoo import fields, models, api, _\n",
      "from odoo.exceptions import UserError\n",
      "\n",
      "\n",
      "class ResCompany(models.Model):\n",
      "    _inherit = 'res.company'\n",
      "\n",
      "    def _autorise_lock_date_changes(self, vals):\n",
      "        '''Check the lock dates for the current companies. This can't be done in a api.constrains because we need\n",
      "        to perform some comparison between new/old values. This method forces the lock dates to be irreversible.\n",
      "        * You cannot set stricter restrictions on advisors than on users.\n",
      "        * You cannot set stricter restrictions on advisors than on users.\n",
      "        * You cannot set stricter restrictions on advisors than on users.\n",
      "        '''\n",
      "        if 'lock_date' in vals and vals['lock_date']:\n",
      "            raise UserError(_('You cannot set stricter restrictions on advisors than on users.'))\n",
      "        return True\n",
      "\n",
      "    def _autorise_lock_date_changes_on_advisers(self, vals):\n",
      "        '''Check the lock dates for the current companies. This can't be done in a api.constrains because we need\n",
      "        to perform some comparison between new/old values. This method forces the lock dates to be irreversible.\n",
      "        * You cannot set stricter restrictions on advisors than on users.\n",
      "        * You cannot set stricter restrictions on advisors than on users.\n",
      "        * You cannot set stricter restrictions on advisors than on users.\n",
      "        '''\n",
      "        if 'lock_date' in vals and vals['lock_date']:\n",
      "            raise UserError(_('You cannot set stricter restrictions on advisors than on users.'))\n",
      "        return True\n",
      "\n",
      "    def _autorise_lock_date_changes_on_users(self, vals):\n",
      "        '''Check the lock dates for the current companies. This can't be done in a api.constrains because we need\n",
      "        to perform some comparison between new/old values. This method forces the lock dates to be irreversible.\n",
      "        * You cannot set stricter restrictions on advisors\n"
     ]
    }
   ],
   "source": [
    "code_input = \"\"\"# -*- coding: utf-8 -*-\n",
    "\n",
    "import calendar\n",
    "from dateutil.relativedelta import relativedelta\n",
    "\n",
    "from odoo import fields, models, api, _\n",
    "from odoo.exceptions import UserError\n",
    "\n",
    "\n",
    "class ResCompany(models.Model):\n",
    "    _inherit = 'res.company'\n",
    "\n",
    "    def _autorise_lock_date_changes(self, vals):\n",
    "        '''Check the lock dates for the current companies. This can't be done in a api.constrains because we need\n",
    "        to perform some comparison between new/old values. This method forces the lock dates to be irreversible.\n",
    "        * You cannot set stricter restrictions on advisors than on users.\"\"\"\n",
    "\n",
    "inputs = tokenizer(code_input, return_tensors=\"pt\").to(model.device)\n",
    "outputs = model.generate(**inputs, max_length=512)\n",
    "print(tokenizer.decode(outputs[0], skip_special_tokens=True))"
   ]
  },
  {
   "cell_type": "code",
   "execution_count": 2,
   "metadata": {
    "execution": {
     "iopub.execute_input": "2024-08-20T22:59:31.716299Z",
     "iopub.status.busy": "2024-08-20T22:59:31.715999Z",
     "iopub.status.idle": "2024-08-20T23:00:37.470691Z",
     "shell.execute_reply": "2024-08-20T23:00:37.470020Z",
     "shell.execute_reply.started": "2024-08-20T22:59:31.716279Z"
    }
   },
   "outputs": [
    {
     "data": {
      "application/vnd.jupyter.widget-view+json": {
       "model_id": "eb55871e0d7f4fc89c759162d2eb6af9",
       "version_major": 2,
       "version_minor": 0
      },
      "text/plain": [
       "config.json:   0%|          | 0.00/632 [00:00<?, ?B/s]"
      ]
     },
     "metadata": {},
     "output_type": "display_data"
    },
    {
     "data": {
      "application/vnd.jupyter.widget-view+json": {
       "model_id": "64be7a32c3bb4127909cf19d768d2ee6",
       "version_major": 2,
       "version_minor": 0
      },
      "text/plain": [
       "model.safetensors.index.json:   0%|          | 0.00/25.1k [00:00<?, ?B/s]"
      ]
     },
     "metadata": {},
     "output_type": "display_data"
    },
    {
     "data": {
      "application/vnd.jupyter.widget-view+json": {
       "model_id": "9186feaa34f14b4d985eeadbb2cdc6fd",
       "version_major": 2,
       "version_minor": 0
      },
      "text/plain": [
       "Downloading shards:   0%|          | 0/2 [00:00<?, ?it/s]"
      ]
     },
     "metadata": {},
     "output_type": "display_data"
    },
    {
     "data": {
      "application/vnd.jupyter.widget-view+json": {
       "model_id": "10d1dba49bd34b519413c258d899b5e5",
       "version_major": 2,
       "version_minor": 0
      },
      "text/plain": [
       "model-00001-of-00002.safetensors:   0%|          | 0.00/9.98G [00:00<?, ?B/s]"
      ]
     },
     "metadata": {},
     "output_type": "display_data"
    },
    {
     "data": {
      "application/vnd.jupyter.widget-view+json": {
       "model_id": "6a152afcc46b4d39a3fd3c24eaa67d03",
       "version_major": 2,
       "version_minor": 0
      },
      "text/plain": [
       "model-00002-of-00002.safetensors:   0%|          | 0.00/3.50G [00:00<?, ?B/s]"
      ]
     },
     "metadata": {},
     "output_type": "display_data"
    },
    {
     "data": {
      "application/vnd.jupyter.widget-view+json": {
       "model_id": "a960ad66d85e45939c5e2250291aa51f",
       "version_major": 2,
       "version_minor": 0
      },
      "text/plain": [
       "Loading checkpoint shards:   0%|          | 0/2 [00:00<?, ?it/s]"
      ]
     },
     "metadata": {},
     "output_type": "display_data"
    },
    {
     "data": {
      "application/vnd.jupyter.widget-view+json": {
       "model_id": "7ce7274095f848a7ad029031d95613b2",
       "version_major": 2,
       "version_minor": 0
      },
      "text/plain": [
       "generation_config.json:   0%|          | 0.00/119 [00:00<?, ?B/s]"
      ]
     },
     "metadata": {},
     "output_type": "display_data"
    },
    {
     "data": {
      "application/vnd.jupyter.widget-view+json": {
       "model_id": "fa1ef7266ccc40e78e5cf0914de8aadf",
       "version_major": 2,
       "version_minor": 0
      },
      "text/plain": [
       "tokenizer_config.json:   0%|          | 0.00/793 [00:00<?, ?B/s]"
      ]
     },
     "metadata": {},
     "output_type": "display_data"
    },
    {
     "data": {
      "application/vnd.jupyter.widget-view+json": {
       "model_id": "da077db7e1c84bc2b6810eea91fc6b93",
       "version_major": 2,
       "version_minor": 0
      },
      "text/plain": [
       "tokenizer.json:   0%|          | 0.00/1.37M [00:00<?, ?B/s]"
      ]
     },
     "metadata": {},
     "output_type": "display_data"
    }
   ],
   "source": [
    "from transformers import AutoModelForCausalLM, AutoTokenizer\n",
    "MODEL = \"deepseek-ai/deepseek-coder-6.7b-base\"\n",
    "device_map = {\"\": 0}\n",
    "model = AutoModelForCausalLM.from_pretrained(\n",
    "    MODEL,\n",
    "    device_map=device_map,\n",
    "    use_cache=False,\n",
    "    trust_remote_code=True,\n",
    ")\n",
    "tokenizer = AutoTokenizer.from_pretrained(MODEL, trust_remote_code=True)"
   ]
  },
  {
   "cell_type": "code",
   "execution_count": 3,
   "metadata": {
    "execution": {
     "iopub.execute_input": "2024-08-20T23:03:05.197282Z",
     "iopub.status.busy": "2024-08-20T23:03:05.197026Z",
     "iopub.status.idle": "2024-08-20T23:04:35.734950Z",
     "shell.execute_reply": "2024-08-20T23:04:35.734273Z",
     "shell.execute_reply.started": "2024-08-20T23:03:05.197259Z"
    }
   },
   "outputs": [
    {
     "name": "stderr",
     "output_type": "stream",
     "text": [
      "/usr/local/lib/python3.11/dist-packages/transformers/generation/utils.py:1473: UserWarning: You have modified the pretrained model configuration to control generation. This is a deprecated strategy to control generation and will be removed soon, in a future version. Please use and modify the model generation configuration (see https://huggingface.co/docs/transformers/generation_strategies#default-text-generation-configuration )\n",
      "  warnings.warn(\n",
      "Setting `pad_token_id` to `eos_token_id`:32014 for open-end generation.\n"
     ]
    },
    {
     "name": "stdout",
     "output_type": "stream",
     "text": [
      "# -*- coding: utf-8 -*-\n",
      "\n",
      "import calendar\n",
      "from dateutil.relativedelta import relativedelta\n",
      "\n",
      "from odoo import fields, models, api, _\n",
      "from odoo.exceptions import UserError\n",
      "\n",
      "\n",
      "class ResCompany(models.Model):\n",
      "    _inherit = 'res.company'\n",
      "\n",
      "    def _autorise_lock_date_changes(self, vals):\n",
      "        '''Check the lock dates for the current companies. This can't be done in a api.constrains because we need\n",
      "        to perform some comparison between new/old values. This method forces the lock dates to be irreversible.\n",
      "        * You cannot set stricter restrictions on advisors than on users.\n",
      "        * You cannot set stricter restrictions on users than on advisors.\n",
      "        * You cannot set stricter restrictions on advisors than on managers.\n",
      "        * You cannot set stricter restrictions on managers than on superusers.\n",
      "        '''\n",
      "        if 'lock_date_start' in vals or 'lock_date_end' in vals:\n",
      "            if self.lock_date_start and self.lock_date_end:\n",
      "                if self.lock_date_start > self.lock_date_end:\n",
      "                    raise UserError(_('The lock date start must be before the lock date end.'))\n",
      "                if self.lock_date_start > fields.Date.today():\n",
      "                    raise UserError(_('The lock date start must be before today.'))\n",
      "                if self.lock_date_end > fields.Date.today() + relativedelta(years=1):\n",
      "                    raise UserError(_('The lock date end must be before the end of the year.'))\n",
      "\n",
      "    @api.model\n",
      "    def create(self, vals):\n",
      "        self._autorise_lock_date_changes(vals)\n",
      "        return super(ResCompany, self).create(vals)\n",
      "\n",
      "    @api.multi\n",
      "    def write(self, vals):\n",
      "        self._autorise_lock_date_changes(vals)\n",
      "        return super(ResCompany, self).write(vals)\n"
     ]
    }
   ],
   "source": [
    "code_input = \"\"\"# -*- coding: utf-8 -*-\n",
    "\n",
    "import calendar\n",
    "from dateutil.relativedelta import relativedelta\n",
    "\n",
    "from odoo import fields, models, api, _\n",
    "from odoo.exceptions import UserError\n",
    "\n",
    "\n",
    "class ResCompany(models.Model):\n",
    "    _inherit = 'res.company'\n",
    "\n",
    "    def _autorise_lock_date_changes(self, vals):\n",
    "        '''Check the lock dates for the current companies. This can't be done in a api.constrains because we need\n",
    "        to perform some comparison between new/old values. This method forces the lock dates to be irreversible.\n",
    "        * You cannot set stricter restrictions on advisors than on users.\"\"\"\n",
    "\n",
    "inputs = tokenizer(code_input, return_tensors=\"pt\").to(model.device)\n",
    "outputs = model.generate(**inputs, max_length=512)\n",
    "print(tokenizer.decode(outputs[0], skip_special_tokens=True))"
   ]
  },
  {
   "cell_type": "code",
   "execution_count": 2,
   "metadata": {
    "execution": {
     "iopub.execute_input": "2024-08-20T23:07:42.036923Z",
     "iopub.status.busy": "2024-08-20T23:07:42.035977Z",
     "iopub.status.idle": "2024-08-20T23:08:01.815423Z",
     "shell.execute_reply": "2024-08-20T23:08:01.814561Z",
     "shell.execute_reply.started": "2024-08-20T23:07:42.036866Z"
    }
   },
   "outputs": [
    {
     "data": {
      "application/vnd.jupyter.widget-view+json": {
       "model_id": "f1436c158238485684dc69b356b0f703",
       "version_major": 2,
       "version_minor": 0
      },
      "text/plain": [
       "config.json:   0%|          | 0.00/631 [00:00<?, ?B/s]"
      ]
     },
     "metadata": {},
     "output_type": "display_data"
    },
    {
     "data": {
      "application/vnd.jupyter.widget-view+json": {
       "model_id": "ede841da20ba450b86c4b03185ba0b4c",
       "version_major": 2,
       "version_minor": 0
      },
      "text/plain": [
       "pytorch_model.bin:   0%|          | 0.00/2.69G [00:00<?, ?B/s]"
      ]
     },
     "metadata": {},
     "output_type": "display_data"
    },
    {
     "data": {
      "application/vnd.jupyter.widget-view+json": {
       "model_id": "4dde0294560a4a8eb21927a34bba3ef1",
       "version_major": 2,
       "version_minor": 0
      },
      "text/plain": [
       "generation_config.json:   0%|          | 0.00/119 [00:00<?, ?B/s]"
      ]
     },
     "metadata": {},
     "output_type": "display_data"
    },
    {
     "data": {
      "application/vnd.jupyter.widget-view+json": {
       "model_id": "17e62b9edb1645d783b0fe475355eea6",
       "version_major": 2,
       "version_minor": 0
      },
      "text/plain": [
       "tokenizer_config.json:   0%|          | 0.00/793 [00:00<?, ?B/s]"
      ]
     },
     "metadata": {},
     "output_type": "display_data"
    },
    {
     "data": {
      "application/vnd.jupyter.widget-view+json": {
       "model_id": "6b7ddb680ce64e56a9372bc422198557",
       "version_major": 2,
       "version_minor": 0
      },
      "text/plain": [
       "tokenizer.json:   0%|          | 0.00/1.37M [00:00<?, ?B/s]"
      ]
     },
     "metadata": {},
     "output_type": "display_data"
    },
    {
     "data": {
      "application/vnd.jupyter.widget-view+json": {
       "model_id": "a68a5af1d2b44e43ad6fd365f4e8f4eb",
       "version_major": 2,
       "version_minor": 0
      },
      "text/plain": [
       "special_tokens_map.json:   0%|          | 0.00/482 [00:00<?, ?B/s]"
      ]
     },
     "metadata": {},
     "output_type": "display_data"
    }
   ],
   "source": [
    "from transformers import AutoModelForCausalLM, AutoTokenizer\n",
    "MODEL = \"deepseek-ai/deepseek-coder-1.3b-base\"\n",
    "device_map = {\"\": 0}\n",
    "model = AutoModelForCausalLM.from_pretrained(\n",
    "    MODEL,\n",
    "    device_map=device_map,\n",
    "    use_cache=False,\n",
    "    trust_remote_code=True,\n",
    ")\n",
    "tokenizer = AutoTokenizer.from_pretrained(MODEL, trust_remote_code=True)"
   ]
  },
  {
   "cell_type": "code",
   "execution_count": 3,
   "metadata": {
    "execution": {
     "iopub.execute_input": "2024-08-20T23:08:01.818575Z",
     "iopub.status.busy": "2024-08-20T23:08:01.818383Z",
     "iopub.status.idle": "2024-08-20T23:08:24.884753Z",
     "shell.execute_reply": "2024-08-20T23:08:24.883783Z",
     "shell.execute_reply.started": "2024-08-20T23:08:01.818557Z"
    }
   },
   "outputs": [
    {
     "name": "stderr",
     "output_type": "stream",
     "text": [
      "/usr/local/lib/python3.11/dist-packages/transformers/generation/utils.py:1473: UserWarning: You have modified the pretrained model configuration to control generation. This is a deprecated strategy to control generation and will be removed soon, in a future version. Please use and modify the model generation configuration (see https://huggingface.co/docs/transformers/generation_strategies#default-text-generation-configuration )\n",
      "  warnings.warn(\n",
      "Setting `pad_token_id` to `eos_token_id`:32014 for open-end generation.\n"
     ]
    },
    {
     "name": "stdout",
     "output_type": "stream",
     "text": [
      "# -*- coding: utf-8 -*-\n",
      "\n",
      "import calendar\n",
      "from dateutil.relativedelta import relativedelta\n",
      "\n",
      "from odoo import fields, models, api, _\n",
      "from odoo.exceptions import UserError\n",
      "\n",
      "\n",
      "class ResCompany(models.Model):\n",
      "    _inherit = 'res.company'\n",
      "\n",
      "    def _autorise_lock_date_changes(self, vals):\n",
      "        '''Check the lock dates for the current companies. This can't be done in a api.constrains because we need\n",
      "        to perform some comparison between new/old values. This method forces the lock dates to be irreversible.\n",
      "        * You cannot set stricter restrictions on advisors than on users.\n",
      "        * You cannot set stricter restrictions on advisors than on users.\n",
      "        * You cannot set stricter restrictions on advisors than on users.\n",
      "        * You cannot set stricter restrictions on advisors than on users.\n",
      "        * You cannot set stricter restrictions on advisors than on users.\n",
      "        * You cannot set stricter restrictions on advisors than on users.\n",
      "        * You cannot set stricter restrictions on advisors than on users.\n",
      "        * You cannot set stricter restrictions on advisors than on users.\n",
      "        * You cannot set stricter restrictions on advisors than on users.\n",
      "        * You cannot set stricter restrictions on advisors than on users.\n",
      "        * You cannot set stricter restrictions on advisors than on users.\n",
      "        * You cannot set stricter restrictions on advisors than on users.\n",
      "        * You cannot set stricter restrictions on advisors than on users.\n",
      "        * You cannot set stricter restrictions on advisors than on users.\n",
      "        * You cannot set stricter restrictions on advisors than on users.\n",
      "        * You cannot set stricter restrictions on advisors than on users.\n",
      "        * You cannot set stricter restrictions on advisors than on users.\n",
      "        * You cannot set stricter restrictions on advisors than on users.\n",
      "        * You cannot set stricter restrictions on advisors than on users.\n",
      "        * You cannot set stricter restrictions on advisors than on users.\n",
      "        * You cannot set stricter restrictions on advisors than on users.\n",
      "        * You cannot set stric\n"
     ]
    }
   ],
   "source": [
    "code_input = \"\"\"# -*- coding: utf-8 -*-\n",
    "\n",
    "import calendar\n",
    "from dateutil.relativedelta import relativedelta\n",
    "\n",
    "from odoo import fields, models, api, _\n",
    "from odoo.exceptions import UserError\n",
    "\n",
    "\n",
    "class ResCompany(models.Model):\n",
    "    _inherit = 'res.company'\n",
    "\n",
    "    def _autorise_lock_date_changes(self, vals):\n",
    "        '''Check the lock dates for the current companies. This can't be done in a api.constrains because we need\n",
    "        to perform some comparison between new/old values. This method forces the lock dates to be irreversible.\n",
    "        * You cannot set stricter restrictions on advisors than on users.\"\"\"\n",
    "\n",
    "inputs = tokenizer(code_input, return_tensors=\"pt\").to(model.device)\n",
    "outputs = model.generate(**inputs, max_length=512)\n",
    "print(tokenizer.decode(outputs[0], skip_special_tokens=True))"
   ]
  }
 ],
 "metadata": {
  "kernelspec": {
   "display_name": "Python 3 (ipykernel)",
   "language": "python",
   "name": "python3"
  },
  "language_info": {
   "codemirror_mode": {
    "name": "ipython",
    "version": 3
   },
   "file_extension": ".py",
   "mimetype": "text/x-python",
   "name": "python",
   "nbconvert_exporter": "python",
   "pygments_lexer": "ipython3",
   "version": "3.11.7"
  }
 },
 "nbformat": 4,
 "nbformat_minor": 4
}
