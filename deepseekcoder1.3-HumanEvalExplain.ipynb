{
 "cells": [
  {
   "cell_type": "code",
   "execution_count": 1,
   "id": "b924baf9-f702-4096-b649-c738fc238028",
   "metadata": {
    "execution": {
     "iopub.execute_input": "2024-08-12T21:43:53.914851Z",
     "iopub.status.busy": "2024-08-12T21:43:53.914312Z",
     "iopub.status.idle": "2024-08-12T21:43:57.472224Z",
     "shell.execute_reply": "2024-08-12T21:43:57.471751Z",
     "shell.execute_reply.started": "2024-08-12T21:43:53.914844Z"
    }
   },
   "outputs": [
    {
     "name": "stdout",
     "output_type": "stream",
     "text": [
      "Collecting evaluate==0.3.0\n",
      "  Downloading evaluate-0.3.0-py3-none-any.whl.metadata (9.1 kB)\n",
      "Requirement already satisfied: datasets>=2.0.0 in /usr/local/lib/python3.11/dist-packages (from evaluate==0.3.0) (2.14.5)\n",
      "Requirement already satisfied: numpy>=1.17 in /usr/local/lib/python3.11/dist-packages (from evaluate==0.3.0) (1.26.3)\n",
      "Requirement already satisfied: dill in /usr/local/lib/python3.11/dist-packages (from evaluate==0.3.0) (0.3.7)\n",
      "Requirement already satisfied: pandas in /usr/local/lib/python3.11/dist-packages (from evaluate==0.3.0) (2.2.0)\n",
      "Requirement already satisfied: requests>=2.19.0 in /usr/local/lib/python3.11/dist-packages (from evaluate==0.3.0) (2.31.0)\n",
      "Requirement already satisfied: tqdm>=4.62.1 in /usr/local/lib/python3.11/dist-packages (from evaluate==0.3.0) (4.66.1)\n",
      "Requirement already satisfied: xxhash in /usr/local/lib/python3.11/dist-packages (from evaluate==0.3.0) (3.4.1)\n",
      "Requirement already satisfied: multiprocess in /usr/local/lib/python3.11/dist-packages (from evaluate==0.3.0) (0.70.15)\n",
      "Requirement already satisfied: fsspec>=2021.05.0 in /usr/local/lib/python3.11/dist-packages (from fsspec[http]>=2021.05.0->evaluate==0.3.0) (2023.6.0)\n",
      "Requirement already satisfied: huggingface-hub>=0.7.0 in /usr/local/lib/python3.11/dist-packages (from evaluate==0.3.0) (0.20.3)\n",
      "Requirement already satisfied: packaging in /usr/local/lib/python3.11/dist-packages (from evaluate==0.3.0) (23.2)\n",
      "Collecting responses<0.19 (from evaluate==0.3.0)\n",
      "  Downloading responses-0.18.0-py3-none-any.whl.metadata (29 kB)\n",
      "Requirement already satisfied: pyarrow>=8.0.0 in /usr/local/lib/python3.11/dist-packages (from datasets>=2.0.0->evaluate==0.3.0) (15.0.0)\n",
      "Requirement already satisfied: aiohttp in /usr/local/lib/python3.11/dist-packages (from datasets>=2.0.0->evaluate==0.3.0) (3.9.1)\n",
      "Requirement already satisfied: pyyaml>=5.1 in /usr/lib/python3/dist-packages (from datasets>=2.0.0->evaluate==0.3.0) (5.4.1)\n",
      "Requirement already satisfied: filelock in /usr/local/lib/python3.11/dist-packages (from huggingface-hub>=0.7.0->evaluate==0.3.0) (3.13.1)\n",
      "Requirement already satisfied: typing-extensions>=3.7.4.3 in /usr/local/lib/python3.11/dist-packages (from huggingface-hub>=0.7.0->evaluate==0.3.0) (4.9.0)\n",
      "Requirement already satisfied: charset-normalizer<4,>=2 in /usr/local/lib/python3.11/dist-packages (from requests>=2.19.0->evaluate==0.3.0) (3.3.2)\n",
      "Requirement already satisfied: idna<4,>=2.5 in /usr/lib/python3/dist-packages (from requests>=2.19.0->evaluate==0.3.0) (3.3)\n",
      "Requirement already satisfied: urllib3<3,>=1.21.1 in /usr/local/lib/python3.11/dist-packages (from requests>=2.19.0->evaluate==0.3.0) (2.0.7)\n",
      "Requirement already satisfied: certifi>=2017.4.17 in /usr/lib/python3/dist-packages (from requests>=2.19.0->evaluate==0.3.0) (2020.6.20)\n",
      "Requirement already satisfied: python-dateutil>=2.8.2 in /usr/local/lib/python3.11/dist-packages (from pandas->evaluate==0.3.0) (2.8.2)\n",
      "Requirement already satisfied: pytz>=2020.1 in /usr/lib/python3/dist-packages (from pandas->evaluate==0.3.0) (2022.1)\n",
      "Requirement already satisfied: tzdata>=2022.7 in /usr/local/lib/python3.11/dist-packages (from pandas->evaluate==0.3.0) (2023.4)\n",
      "Requirement already satisfied: attrs>=17.3.0 in /usr/local/lib/python3.11/dist-packages (from aiohttp->datasets>=2.0.0->evaluate==0.3.0) (23.1.0)\n",
      "Requirement already satisfied: multidict<7.0,>=4.5 in /usr/local/lib/python3.11/dist-packages (from aiohttp->datasets>=2.0.0->evaluate==0.3.0) (6.0.4)\n",
      "Requirement already satisfied: yarl<2.0,>=1.0 in /usr/local/lib/python3.11/dist-packages (from aiohttp->datasets>=2.0.0->evaluate==0.3.0) (1.9.4)\n",
      "Requirement already satisfied: frozenlist>=1.1.1 in /usr/local/lib/python3.11/dist-packages (from aiohttp->datasets>=2.0.0->evaluate==0.3.0) (1.4.1)\n",
      "Requirement already satisfied: aiosignal>=1.1.2 in /usr/local/lib/python3.11/dist-packages (from aiohttp->datasets>=2.0.0->evaluate==0.3.0) (1.3.1)\n",
      "Requirement already satisfied: six>=1.5 in /usr/lib/python3/dist-packages (from python-dateutil>=2.8.2->pandas->evaluate==0.3.0) (1.16.0)\n",
      "Downloading evaluate-0.3.0-py3-none-any.whl (72 kB)\n",
      "\u001b[2K   \u001b[90m━━━━━━━━━━━━━━━━━━━━━━━━━━━━━━━━━━━━━━━━\u001b[0m \u001b[32m72.9/72.9 kB\u001b[0m \u001b[31m4.1 MB/s\u001b[0m eta \u001b[36m0:00:00\u001b[0m\n",
      "\u001b[?25hDownloading responses-0.18.0-py3-none-any.whl (38 kB)\n",
      "Installing collected packages: responses, evaluate\n",
      "Successfully installed evaluate-0.3.0 responses-0.18.0\n",
      "\u001b[33mWARNING: Running pip as the 'root' user can result in broken permissions and conflicting behaviour with the system package manager. It is recommended to use a virtual environment instead: https://pip.pypa.io/warnings/venv\u001b[0m\u001b[33m\n",
      "\u001b[0m"
     ]
    }
   ],
   "source": [
    "!pip install evaluate==0.3.0"
   ]
  },
  {
   "cell_type": "code",
   "execution_count": 2,
   "id": "dcf78c75-6c69-4c0d-906e-d0d5da7ed7fa",
   "metadata": {
    "execution": {
     "iopub.execute_input": "2024-08-12T21:43:57.473405Z",
     "iopub.status.busy": "2024-08-12T21:43:57.473206Z",
     "iopub.status.idle": "2024-08-12T21:43:57.478238Z",
     "shell.execute_reply": "2024-08-12T21:43:57.477625Z",
     "shell.execute_reply.started": "2024-08-12T21:43:57.473387Z"
    }
   },
   "outputs": [
    {
     "name": "stdout",
     "output_type": "stream",
     "text": [
      "deepseekcoder1.3/generations_deepseek-coder-1-3b-instruct\n",
      "deepseekcoder1.3/generations_deepseek-coder-1-3b-instruct_humanevalexplaindescribe-python.json\n",
      "deepseekcoder1.3/evaluation_humanevalexplainpython_deepseek-coder-1-3b-instruct\n"
     ]
    }
   ],
   "source": [
    "MODEL_HUB = \"deepseek-ai/deepseek-coder-1.3b-instruct\"\n",
    "MODEL = \"deepseek-coder-1-3b-instruct\"\n",
    "PATH = \"deepseekcoder1.3\"\n",
    "TASK = \"humanevalexplaindescribe-python\"\n",
    "QUANT = \"\"\n",
    "\n",
    "def create_path(model, path, task, quant):\n",
    "    SAVE_PATH = path + \"/generations_\" + model + quant\n",
    "    LOAD_PATH = SAVE_PATH + \"_\" + task + \".json\"\n",
    "    EVAL_PATH = PATH + \"/evaluation_humanevalexplainpython_\" + model + quant\n",
    "    return SAVE_PATH, LOAD_PATH, EVAL_PATH\n",
    "\n",
    "SAVE_PATH, LOAD_PATH, EVAL_PATH = create_path(MODEL, PATH, TASK, QUANT)\n",
    "print(SAVE_PATH)\n",
    "print(LOAD_PATH)\n",
    "print(EVAL_PATH)"
   ]
  },
  {
   "cell_type": "code",
   "execution_count": 3,
   "id": "f4afc6e7-49fd-49f2-95b3-65289342ea4f",
   "metadata": {
    "execution": {
     "iopub.execute_input": "2024-08-12T21:43:57.479074Z",
     "iopub.status.busy": "2024-08-12T21:43:57.478922Z",
     "iopub.status.idle": "2024-08-12T21:49:34.016929Z",
     "shell.execute_reply": "2024-08-12T21:49:34.015950Z",
     "shell.execute_reply.started": "2024-08-12T21:43:57.479074Z"
    }
   },
   "outputs": [
    {
     "name": "stdout",
     "output_type": "stream",
     "text": [
      "2024-08-12 21:44:00.986260: E external/local_xla/xla/stream_executor/cuda/cuda_dnn.cc:9261] Unable to register cuDNN factory: Attempting to register factory for plugin cuDNN when one has already been registered\n",
      "2024-08-12 21:44:00.986377: E external/local_xla/xla/stream_executor/cuda/cuda_fft.cc:607] Unable to register cuFFT factory: Attempting to register factory for plugin cuFFT when one has already been registered\n",
      "2024-08-12 21:44:01.069378: E external/local_xla/xla/stream_executor/cuda/cuda_blas.cc:1515] Unable to register cuBLAS factory: Attempting to register factory for plugin cuBLAS when one has already been registered\n",
      "2024-08-12 21:44:01.226782: I tensorflow/core/platform/cpu_feature_guard.cc:182] This TensorFlow binary is optimized to use available CPU instructions in performance-critical operations.\n",
      "To enable the following instructions: AVX2 FMA, in other operations, rebuild TensorFlow with the appropriate compiler flags.\n",
      "2024-08-12 21:44:02.820497: W tensorflow/compiler/tf2tensorrt/utils/py_utils.cc:38] TF-TRT Warning: Could not find TensorRT\n",
      "Selected Tasks: ['humanevalexplaindescribe-python']\n",
      "Loading model in fp16\n",
      "config.json: 100%|█████████████████████████████| 631/631 [00:00<00:00, 2.70MB/s]\n",
      "model.safetensors: 100%|████████████████████| 2.69G/2.69G [00:07<00:00, 342MB/s]\n",
      "/usr/local/lib/python3.11/dist-packages/transformers/utils/hub.py:374: FutureWarning: The `use_auth_token` argument is deprecated and will be removed in v5 of Transformers. Please use `token` instead.\n",
      "  warnings.warn(\n",
      "generation_config.json: 100%|███████████████████| 119/119 [00:00<00:00, 809kB/s]\n",
      "tokenizer_config.json: 100%|███████████████| 1.87k/1.87k [00:00<00:00, 13.5MB/s]\n",
      "tokenizer.json: 100%|██████████████████████| 1.37M/1.37M [00:00<00:00, 39.6MB/s]\n",
      "generation mode only\n",
      "Downloading builder script: 100%|██████████| 6.22k/6.22k [00:00<00:00, 28.5MB/s]\n",
      "Downloading readme: 100%|██████████████████| 7.65k/7.65k [00:00<00:00, 21.4MB/s]\n",
      "Downloading data: 100%|██████████████████████| 538k/538k [00:00<00:00, 58.2MB/s]\n",
      "Generating test split: 164 examples [00:00, 5362.10 examples/s]\n",
      "number of problems for this task is 164\n",
      "  0%|                                                   | 0/164 [00:00<?, ?it/s]/usr/local/lib/python3.11/dist-packages/transformers/generation/configuration_utils.py:381: UserWarning: `do_sample` is set to `False`. However, `temperature` is set to `0.2` -- this flag is only used in sample-based generation modes. You should set `do_sample=True` or unset `temperature`.\n",
      "  warnings.warn(\n",
      "/usr/local/lib/python3.11/dist-packages/transformers/generation/configuration_utils.py:386: UserWarning: `do_sample` is set to `False`. However, `top_p` is set to `0.95` -- this flag is only used in sample-based generation modes. You should set `do_sample=True` or unset `top_p`.\n",
      "  warnings.warn(\n",
      "/usr/local/lib/python3.11/dist-packages/transformers/generation/configuration_utils.py:396: UserWarning: `do_sample` is set to `False`. However, `top_k` is set to `0` -- this flag is only used in sample-based generation modes. You should set `do_sample=True` or unset `top_k`.\n",
      "  warnings.warn(\n",
      "100%|█████████████████████████████████████████| 164/164 [04:41<00:00,  1.71s/it]\n",
      "generations were saved at deepseekcoder1.3/generations_deepseek-coder-1-3b-instruct_humanevalexplaindescribe-python.json\n"
     ]
    }
   ],
   "source": [
    "!python main.py \\\n",
    "--model {MODEL_HUB}  \\\n",
    "--tasks {TASK} \\\n",
    "--generation_only \\\n",
    "--do_sample False \\\n",
    "--n_samples 1 \\\n",
    "--batch_size 1 \\\n",
    "--allow_code_execution \\\n",
    "--save_generations \\\n",
    "--trust_remote_code \\\n",
    "--prompt deepseek \\\n",
    "--save_generations_path \"{SAVE_PATH}\" \\\n",
    "--max_length_generation 2048 \\\n",
    "--precision fp16"
   ]
  },
  {
   "cell_type": "code",
   "execution_count": 4,
   "id": "dfee00fc-8a08-4a5f-8821-b8934c2ac859",
   "metadata": {
    "execution": {
     "iopub.execute_input": "2024-08-12T21:49:34.022386Z",
     "iopub.status.busy": "2024-08-12T21:49:34.021809Z",
     "iopub.status.idle": "2024-08-12T21:49:34.027451Z",
     "shell.execute_reply": "2024-08-12T21:49:34.026702Z",
     "shell.execute_reply.started": "2024-08-12T21:49:34.022353Z"
    }
   },
   "outputs": [],
   "source": [
    "TASK = \"humanevalexplainsynthesize-python\""
   ]
  },
  {
   "cell_type": "code",
   "execution_count": 5,
   "id": "4bf5ace8-4358-4c1c-a68f-0ab872011cc4",
   "metadata": {
    "execution": {
     "iopub.execute_input": "2024-08-12T21:49:34.029531Z",
     "iopub.status.busy": "2024-08-12T21:49:34.029311Z",
     "iopub.status.idle": "2024-08-12T21:55:16.918586Z",
     "shell.execute_reply": "2024-08-12T21:55:16.917503Z",
     "shell.execute_reply.started": "2024-08-12T21:49:34.029510Z"
    }
   },
   "outputs": [
    {
     "name": "stdout",
     "output_type": "stream",
     "text": [
      "2024-08-12 21:49:36.679399: E external/local_xla/xla/stream_executor/cuda/cuda_dnn.cc:9261] Unable to register cuDNN factory: Attempting to register factory for plugin cuDNN when one has already been registered\n",
      "2024-08-12 21:49:36.679464: E external/local_xla/xla/stream_executor/cuda/cuda_fft.cc:607] Unable to register cuFFT factory: Attempting to register factory for plugin cuFFT when one has already been registered\n",
      "2024-08-12 21:49:36.680627: E external/local_xla/xla/stream_executor/cuda/cuda_blas.cc:1515] Unable to register cuBLAS factory: Attempting to register factory for plugin cuBLAS when one has already been registered\n",
      "2024-08-12 21:49:36.686770: I tensorflow/core/platform/cpu_feature_guard.cc:182] This TensorFlow binary is optimized to use available CPU instructions in performance-critical operations.\n",
      "To enable the following instructions: AVX2 FMA, in other operations, rebuild TensorFlow with the appropriate compiler flags.\n",
      "2024-08-12 21:49:37.555015: W tensorflow/compiler/tf2tensorrt/utils/py_utils.cc:38] TF-TRT Warning: Could not find TensorRT\n",
      "Selected Tasks: ['humanevalexplainsynthesize-python']\n",
      "Loading model in fp16\n",
      "/usr/local/lib/python3.11/dist-packages/transformers/utils/hub.py:374: FutureWarning: The `use_auth_token` argument is deprecated and will be removed in v5 of Transformers. Please use `token` instead.\n",
      "  warnings.warn(\n",
      "164 descriptions with 1 description candidates loaded.\n",
      "164 descriptions with 1 description candidates loaded.\n",
      "number of problems for this task is 164\n",
      "  0%|                                                   | 0/164 [00:00<?, ?it/s]/usr/local/lib/python3.11/dist-packages/transformers/generation/configuration_utils.py:381: UserWarning: `do_sample` is set to `False`. However, `temperature` is set to `0.2` -- this flag is only used in sample-based generation modes. You should set `do_sample=True` or unset `temperature`.\n",
      "  warnings.warn(\n",
      "/usr/local/lib/python3.11/dist-packages/transformers/generation/configuration_utils.py:386: UserWarning: `do_sample` is set to `False`. However, `top_p` is set to `0.95` -- this flag is only used in sample-based generation modes. You should set `do_sample=True` or unset `top_p`.\n",
      "  warnings.warn(\n",
      "/usr/local/lib/python3.11/dist-packages/transformers/generation/configuration_utils.py:396: UserWarning: `do_sample` is set to `False`. However, `top_k` is set to `0` -- this flag is only used in sample-based generation modes. You should set `do_sample=True` or unset `top_k`.\n",
      "  warnings.warn(\n",
      "100%|█████████████████████████████████████████| 164/164 [04:18<00:00,  1.57s/it]\n",
      "generations were saved at deepseekcoder1.3/generations_deepseek-coder-1-3b-instruct_humanevalexplainsynthesize-python.json\n",
      "Evaluating generations...\n",
      "Downloading builder script: 100%|██████████| 7.92k/7.92k [00:00<00:00, 25.3MB/s]\n",
      "Downloading extra modules: 100%|███████████| 13.2k/13.2k [00:00<00:00, 42.5MB/s]\n",
      "{\n",
      "  \"humanevalexplainsynthesize-python\": {\n",
      "    \"pass@1\": 0.4634146341463415\n",
      "  },\n",
      "  \"config\": {\n",
      "    \"prefix\": \"\",\n",
      "    \"do_sample\": false,\n",
      "    \"temperature\": 0.2,\n",
      "    \"top_k\": 0,\n",
      "    \"top_p\": 0.95,\n",
      "    \"n_samples\": 1,\n",
      "    \"eos\": \"<|endoftext|>\",\n",
      "    \"seed\": 0,\n",
      "    \"model\": \"deepseek-ai/deepseek-coder-1.3b-instruct\",\n",
      "    \"modeltype\": \"causal\",\n",
      "    \"peft_model\": null,\n",
      "    \"revision\": null,\n",
      "    \"use_auth_token\": false,\n",
      "    \"trust_remote_code\": true,\n",
      "    \"tasks\": \"humanevalexplainsynthesize-python\",\n",
      "    \"instruction_tokens\": null,\n",
      "    \"batch_size\": 1,\n",
      "    \"max_length_generation\": 2048,\n",
      "    \"precision\": \"fp16\",\n",
      "    \"load_in_8bit\": false,\n",
      "    \"load_in_4bit\": false,\n",
      "    \"left_padding\": false,\n",
      "    \"limit\": null,\n",
      "    \"limit_start\": 0,\n",
      "    \"save_every_k_tasks\": -1,\n",
      "    \"postprocess\": true,\n",
      "    \"allow_code_execution\": true,\n",
      "    \"generation_only\": false,\n",
      "    \"load_generations_path\": null,\n",
      "    \"load_data_path\": \"deepseekcoder1.3/generations_deepseek-coder-1-3b-instruct_humanevalexplaindescribe-python.json\",\n",
      "    \"metric_output_path\": \"deepseekcoder1.3/evaluation_humanevalexplainpython_deepseek-coder-1-3b-instruct\",\n",
      "    \"save_generations\": true,\n",
      "    \"load_generations_intermediate_paths\": null,\n",
      "    \"save_generations_path\": \"deepseekcoder1.3/generations_deepseek-coder-1-3b-instruct\",\n",
      "    \"save_references\": false,\n",
      "    \"save_references_path\": \"references.json\",\n",
      "    \"prompt\": \"deepseek\",\n",
      "    \"max_memory_per_gpu\": null,\n",
      "    \"check_references\": false\n",
      "  }\n",
      "}\n"
     ]
    }
   ],
   "source": [
    "!python main.py \\\n",
    "--model {MODEL_HUB}  \\\n",
    "--tasks {TASK} \\\n",
    "--do_sample False \\\n",
    "--n_samples 1 \\\n",
    "--batch_size 1 \\\n",
    "--allow_code_execution \\\n",
    "--save_generations \\\n",
    "--trust_remote_code \\\n",
    "--prompt deepseek \\\n",
    "--load_data_path {LOAD_PATH} \\\n",
    "--save_generations_path {SAVE_PATH} \\\n",
    "--metric_output_path {EVAL_PATH} \\\n",
    "--max_length_generation 2048 \\\n",
    "--precision fp16"
   ]
  },
  {
   "cell_type": "code",
   "execution_count": 6,
   "id": "fa76d3c8-465d-4ba5-9e1a-8cc0ee6fc69e",
   "metadata": {
    "execution": {
     "iopub.execute_input": "2024-08-12T21:55:16.920217Z",
     "iopub.status.busy": "2024-08-12T21:55:16.919834Z",
     "iopub.status.idle": "2024-08-12T21:55:16.927373Z",
     "shell.execute_reply": "2024-08-12T21:55:16.926204Z",
     "shell.execute_reply.started": "2024-08-12T21:55:16.920181Z"
    }
   },
   "outputs": [
    {
     "name": "stdout",
     "output_type": "stream",
     "text": [
      "deepseekcoder1.3/generations_deepseek-coder-1-3b-instruct8bit\n",
      "deepseekcoder1.3/generations_deepseek-coder-1-3b-instruct8bit_humanevalexplaindescribe-python.json\n",
      "deepseekcoder1.3/evaluation_humanevalexplainpython_deepseek-coder-1-3b-instruct8bit\n"
     ]
    }
   ],
   "source": [
    "MODEL_HUB = \"deepseek-ai/deepseek-coder-1.3b-instruct\"\n",
    "MODEL = \"deepseek-coder-1-3b-instruct\"\n",
    "PATH = \"deepseekcoder1.3\"\n",
    "TASK = \"humanevalexplaindescribe-python\"\n",
    "QUANT = \"8bit\"\n",
    "\n",
    "def create_path(model, path, task, quant):\n",
    "    SAVE_PATH = path + \"/generations_\" + model + quant\n",
    "    LOAD_PATH = SAVE_PATH + \"_\" + task + \".json\"\n",
    "    EVAL_PATH = PATH + \"/evaluation_humanevalexplainpython_\" + model + quant\n",
    "    return SAVE_PATH, LOAD_PATH, EVAL_PATH\n",
    "\n",
    "SAVE_PATH, LOAD_PATH, EVAL_PATH = create_path(MODEL, PATH, TASK, QUANT)\n",
    "print(SAVE_PATH)\n",
    "print(LOAD_PATH)\n",
    "print(EVAL_PATH)"
   ]
  },
  {
   "cell_type": "code",
   "execution_count": 7,
   "id": "f5c8761b-1dca-42f3-a9b0-79936754825b",
   "metadata": {
    "execution": {
     "iopub.execute_input": "2024-08-12T21:55:16.929580Z",
     "iopub.status.busy": "2024-08-12T21:55:16.929295Z",
     "iopub.status.idle": "2024-08-12T22:18:22.512682Z",
     "shell.execute_reply": "2024-08-12T22:18:22.512141Z",
     "shell.execute_reply.started": "2024-08-12T21:55:16.929557Z"
    }
   },
   "outputs": [
    {
     "name": "stdout",
     "output_type": "stream",
     "text": [
      "2024-08-12 21:55:20.317262: E external/local_xla/xla/stream_executor/cuda/cuda_dnn.cc:9261] Unable to register cuDNN factory: Attempting to register factory for plugin cuDNN when one has already been registered\n",
      "2024-08-12 21:55:20.317330: E external/local_xla/xla/stream_executor/cuda/cuda_fft.cc:607] Unable to register cuFFT factory: Attempting to register factory for plugin cuFFT when one has already been registered\n",
      "2024-08-12 21:55:20.318662: E external/local_xla/xla/stream_executor/cuda/cuda_blas.cc:1515] Unable to register cuBLAS factory: Attempting to register factory for plugin cuBLAS when one has already been registered\n",
      "2024-08-12 21:55:20.325681: I tensorflow/core/platform/cpu_feature_guard.cc:182] This TensorFlow binary is optimized to use available CPU instructions in performance-critical operations.\n",
      "To enable the following instructions: AVX2 FMA, in other operations, rebuild TensorFlow with the appropriate compiler flags.\n",
      "2024-08-12 21:55:21.356468: W tensorflow/compiler/tf2tensorrt/utils/py_utils.cc:38] TF-TRT Warning: Could not find TensorRT\n",
      "Selected Tasks: ['humanevalexplaindescribe-python']\n",
      "Loading model in 8bit\n",
      "/usr/local/lib/python3.11/dist-packages/transformers/utils/hub.py:374: FutureWarning: The `use_auth_token` argument is deprecated and will be removed in v5 of Transformers. Please use `token` instead.\n",
      "  warnings.warn(\n",
      "generation mode only\n",
      "number of problems for this task is 164\n",
      "  0%|                                                   | 0/164 [00:00<?, ?it/s][2024-08-12 21:55:31,065] [INFO] [real_accelerator.py:158:get_accelerator] Setting ds_accelerator to cuda (auto detect)\n",
      "/usr/local/lib/python3.11/dist-packages/transformers/generation/configuration_utils.py:381: UserWarning: `do_sample` is set to `False`. However, `temperature` is set to `0.2` -- this flag is only used in sample-based generation modes. You should set `do_sample=True` or unset `temperature`.\n",
      "  warnings.warn(\n",
      "/usr/local/lib/python3.11/dist-packages/transformers/generation/configuration_utils.py:386: UserWarning: `do_sample` is set to `False`. However, `top_p` is set to `0.95` -- this flag is only used in sample-based generation modes. You should set `do_sample=True` or unset `top_p`.\n",
      "  warnings.warn(\n",
      "/usr/local/lib/python3.11/dist-packages/transformers/generation/configuration_utils.py:396: UserWarning: `do_sample` is set to `False`. However, `top_k` is set to `0` -- this flag is only used in sample-based generation modes. You should set `do_sample=True` or unset `top_k`.\n",
      "  warnings.warn(\n",
      "100%|█████████████████████████████████████████| 164/164 [22:49<00:00,  8.35s/it]\n",
      "generations were saved at deepseekcoder1.3/generations_deepseek-coder-1-3b-instruct8bit_humanevalexplaindescribe-python.json\n"
     ]
    }
   ],
   "source": [
    "!python main.py \\\n",
    "--model {MODEL_HUB}  \\\n",
    "--tasks humanevalexplaindescribe-python \\\n",
    "--generation_only \\\n",
    "--do_sample False \\\n",
    "--n_samples 1 \\\n",
    "--batch_size 1 \\\n",
    "--allow_code_execution \\\n",
    "--save_generations \\\n",
    "--trust_remote_code \\\n",
    "--prompt deepseek \\\n",
    "--save_generations_path \"{SAVE_PATH}\" \\\n",
    "--max_length_generation 2048 \\\n",
    "--precision fp16 \\\n",
    "--load_in_8bit"
   ]
  },
  {
   "cell_type": "code",
   "execution_count": 8,
   "id": "ce9378a6-80cc-4976-9b0a-dda3e79afaba",
   "metadata": {
    "execution": {
     "iopub.execute_input": "2024-08-12T22:18:22.513561Z",
     "iopub.status.busy": "2024-08-12T22:18:22.513369Z",
     "iopub.status.idle": "2024-08-12T22:18:22.516556Z",
     "shell.execute_reply": "2024-08-12T22:18:22.516166Z",
     "shell.execute_reply.started": "2024-08-12T22:18:22.513541Z"
    }
   },
   "outputs": [],
   "source": [
    "TASK = \"humanevalexplainsynthesize-python\""
   ]
  },
  {
   "cell_type": "code",
   "execution_count": 9,
   "id": "72f5cc02-d4e5-4c15-989f-ab49990296dd",
   "metadata": {
    "execution": {
     "iopub.execute_input": "2024-08-12T22:18:22.517485Z",
     "iopub.status.busy": "2024-08-12T22:18:22.517292Z",
     "iopub.status.idle": "2024-08-12T22:37:44.435702Z",
     "shell.execute_reply": "2024-08-12T22:37:44.434849Z",
     "shell.execute_reply.started": "2024-08-12T22:18:22.517464Z"
    }
   },
   "outputs": [
    {
     "name": "stdout",
     "output_type": "stream",
     "text": [
      "2024-08-12 22:18:25.536244: E external/local_xla/xla/stream_executor/cuda/cuda_dnn.cc:9261] Unable to register cuDNN factory: Attempting to register factory for plugin cuDNN when one has already been registered\n",
      "2024-08-12 22:18:25.536316: E external/local_xla/xla/stream_executor/cuda/cuda_fft.cc:607] Unable to register cuFFT factory: Attempting to register factory for plugin cuFFT when one has already been registered\n",
      "2024-08-12 22:18:25.537631: E external/local_xla/xla/stream_executor/cuda/cuda_blas.cc:1515] Unable to register cuBLAS factory: Attempting to register factory for plugin cuBLAS when one has already been registered\n",
      "2024-08-12 22:18:25.546195: I tensorflow/core/platform/cpu_feature_guard.cc:182] This TensorFlow binary is optimized to use available CPU instructions in performance-critical operations.\n",
      "To enable the following instructions: AVX2 FMA, in other operations, rebuild TensorFlow with the appropriate compiler flags.\n",
      "2024-08-12 22:18:26.430731: W tensorflow/compiler/tf2tensorrt/utils/py_utils.cc:38] TF-TRT Warning: Could not find TensorRT\n",
      "Selected Tasks: ['humanevalexplainsynthesize-python']\n",
      "Loading model in 8bit\n",
      "/usr/local/lib/python3.11/dist-packages/transformers/utils/hub.py:374: FutureWarning: The `use_auth_token` argument is deprecated and will be removed in v5 of Transformers. Please use `token` instead.\n",
      "  warnings.warn(\n",
      "164 descriptions with 1 description candidates loaded.\n",
      "164 descriptions with 1 description candidates loaded.\n",
      "number of problems for this task is 164\n",
      "  0%|                                                   | 0/164 [00:00<?, ?it/s][2024-08-12 22:18:35,379] [INFO] [real_accelerator.py:158:get_accelerator] Setting ds_accelerator to cuda (auto detect)\n",
      "/usr/local/lib/python3.11/dist-packages/transformers/generation/configuration_utils.py:381: UserWarning: `do_sample` is set to `False`. However, `temperature` is set to `0.2` -- this flag is only used in sample-based generation modes. You should set `do_sample=True` or unset `temperature`.\n",
      "  warnings.warn(\n",
      "/usr/local/lib/python3.11/dist-packages/transformers/generation/configuration_utils.py:386: UserWarning: `do_sample` is set to `False`. However, `top_p` is set to `0.95` -- this flag is only used in sample-based generation modes. You should set `do_sample=True` or unset `top_p`.\n",
      "  warnings.warn(\n",
      "/usr/local/lib/python3.11/dist-packages/transformers/generation/configuration_utils.py:396: UserWarning: `do_sample` is set to `False`. However, `top_k` is set to `0` -- this flag is only used in sample-based generation modes. You should set `do_sample=True` or unset `top_k`.\n",
      "  warnings.warn(\n",
      "100%|█████████████████████████████████████████| 164/164 [18:29<00:00,  6.77s/it]\n",
      "generations were saved at deepseekcoder1.3/generations_deepseek-coder-1-3b-instruct8bit_humanevalexplainsynthesize-python.json\n",
      "Evaluating generations...\n",
      "{\n",
      "  \"humanevalexplainsynthesize-python\": {\n",
      "    \"pass@1\": 0.4817073170731707\n",
      "  },\n",
      "  \"config\": {\n",
      "    \"prefix\": \"\",\n",
      "    \"do_sample\": false,\n",
      "    \"temperature\": 0.2,\n",
      "    \"top_k\": 0,\n",
      "    \"top_p\": 0.95,\n",
      "    \"n_samples\": 1,\n",
      "    \"eos\": \"<|endoftext|>\",\n",
      "    \"seed\": 0,\n",
      "    \"model\": \"deepseek-ai/deepseek-coder-1.3b-instruct\",\n",
      "    \"modeltype\": \"causal\",\n",
      "    \"peft_model\": null,\n",
      "    \"revision\": null,\n",
      "    \"use_auth_token\": false,\n",
      "    \"trust_remote_code\": true,\n",
      "    \"tasks\": \"humanevalexplainsynthesize-python\",\n",
      "    \"instruction_tokens\": null,\n",
      "    \"batch_size\": 1,\n",
      "    \"max_length_generation\": 2048,\n",
      "    \"precision\": \"fp16\",\n",
      "    \"load_in_8bit\": true,\n",
      "    \"load_in_4bit\": false,\n",
      "    \"left_padding\": false,\n",
      "    \"limit\": null,\n",
      "    \"limit_start\": 0,\n",
      "    \"save_every_k_tasks\": -1,\n",
      "    \"postprocess\": true,\n",
      "    \"allow_code_execution\": true,\n",
      "    \"generation_only\": false,\n",
      "    \"load_generations_path\": null,\n",
      "    \"load_data_path\": \"deepseekcoder1.3/generations_deepseek-coder-1-3b-instruct8bit_humanevalexplaindescribe-python.json\",\n",
      "    \"metric_output_path\": \"deepseekcoder1.3/evaluation_humanevalexplainpython_deepseek-coder-1-3b-instruct8bit\",\n",
      "    \"save_generations\": true,\n",
      "    \"load_generations_intermediate_paths\": null,\n",
      "    \"save_generations_path\": \"deepseekcoder1.3/generations_deepseek-coder-1-3b-instruct8bit\",\n",
      "    \"save_references\": false,\n",
      "    \"save_references_path\": \"references.json\",\n",
      "    \"prompt\": \"deepseek\",\n",
      "    \"max_memory_per_gpu\": null,\n",
      "    \"check_references\": false\n",
      "  }\n",
      "}\n"
     ]
    }
   ],
   "source": [
    "!python main.py \\\n",
    "--model {MODEL_HUB}  \\\n",
    "--tasks {TASK} \\\n",
    "--do_sample False \\\n",
    "--n_samples 1 \\\n",
    "--batch_size 1 \\\n",
    "--allow_code_execution \\\n",
    "--save_generations \\\n",
    "--trust_remote_code \\\n",
    "--prompt deepseek \\\n",
    "--load_data_path {LOAD_PATH} \\\n",
    "--save_generations_path {SAVE_PATH} \\\n",
    "--metric_output_path {EVAL_PATH} \\\n",
    "--max_length_generation 2048 \\\n",
    "--precision fp16 \\\n",
    "--load_in_8bit"
   ]
  },
  {
   "cell_type": "code",
   "execution_count": 10,
   "id": "1f54816b-1900-4dce-a23c-d94c5a78f214",
   "metadata": {
    "execution": {
     "iopub.execute_input": "2024-08-12T22:37:44.438071Z",
     "iopub.status.busy": "2024-08-12T22:37:44.437820Z",
     "iopub.status.idle": "2024-08-12T22:37:44.443864Z",
     "shell.execute_reply": "2024-08-12T22:37:44.443175Z",
     "shell.execute_reply.started": "2024-08-12T22:37:44.438051Z"
    }
   },
   "outputs": [
    {
     "name": "stdout",
     "output_type": "stream",
     "text": [
      "deepseekcoder1.3/generations_deepseek-coder-1-3b-instruct4bit\n",
      "deepseekcoder1.3/generations_deepseek-coder-1-3b-instruct4bit_humanevalexplaindescribe-python.json\n",
      "deepseekcoder1.3/evaluation_humanevalexplainpython_deepseek-coder-1-3b-instruct4bit\n"
     ]
    }
   ],
   "source": [
    "MODEL_HUB = \"deepseek-ai/deepseek-coder-1.3b-instruct\"\n",
    "MODEL = \"deepseek-coder-1-3b-instruct\"\n",
    "PATH = \"deepseekcoder1.3\"\n",
    "TASK = \"humanevalexplaindescribe-python\"\n",
    "QUANT = \"4bit\"\n",
    "\n",
    "def create_path(model, path, task, quant):\n",
    "    SAVE_PATH = path + \"/generations_\" + model + quant\n",
    "    LOAD_PATH = SAVE_PATH + \"_\" + task + \".json\"\n",
    "    EVAL_PATH = PATH + \"/evaluation_humanevalexplainpython_\" + model + quant\n",
    "    return SAVE_PATH, LOAD_PATH, EVAL_PATH\n",
    "\n",
    "SAVE_PATH, LOAD_PATH, EVAL_PATH = create_path(MODEL, PATH, TASK, QUANT)\n",
    "print(SAVE_PATH)\n",
    "print(LOAD_PATH)\n",
    "print(EVAL_PATH)"
   ]
  },
  {
   "cell_type": "code",
   "execution_count": 11,
   "id": "2673d1df-5fe9-4ece-8ce8-8b8601b50fc8",
   "metadata": {
    "execution": {
     "iopub.execute_input": "2024-08-12T22:37:44.444896Z",
     "iopub.status.busy": "2024-08-12T22:37:44.444614Z",
     "iopub.status.idle": "2024-08-12T22:43:36.171170Z",
     "shell.execute_reply": "2024-08-12T22:43:36.170633Z",
     "shell.execute_reply.started": "2024-08-12T22:37:44.444840Z"
    }
   },
   "outputs": [
    {
     "name": "stdout",
     "output_type": "stream",
     "text": [
      "2024-08-12 22:37:47.813941: E external/local_xla/xla/stream_executor/cuda/cuda_dnn.cc:9261] Unable to register cuDNN factory: Attempting to register factory for plugin cuDNN when one has already been registered\n",
      "2024-08-12 22:37:47.814020: E external/local_xla/xla/stream_executor/cuda/cuda_fft.cc:607] Unable to register cuFFT factory: Attempting to register factory for plugin cuFFT when one has already been registered\n",
      "2024-08-12 22:37:47.815184: E external/local_xla/xla/stream_executor/cuda/cuda_blas.cc:1515] Unable to register cuBLAS factory: Attempting to register factory for plugin cuBLAS when one has already been registered\n",
      "2024-08-12 22:37:47.822013: I tensorflow/core/platform/cpu_feature_guard.cc:182] This TensorFlow binary is optimized to use available CPU instructions in performance-critical operations.\n",
      "To enable the following instructions: AVX2 FMA, in other operations, rebuild TensorFlow with the appropriate compiler flags.\n",
      "2024-08-12 22:37:48.854832: W tensorflow/compiler/tf2tensorrt/utils/py_utils.cc:38] TF-TRT Warning: Could not find TensorRT\n",
      "Selected Tasks: ['humanevalexplaindescribe-python']\n",
      "Loading model in 4bit\n",
      "/usr/local/lib/python3.11/dist-packages/transformers/utils/hub.py:374: FutureWarning: The `use_auth_token` argument is deprecated and will be removed in v5 of Transformers. Please use `token` instead.\n",
      "  warnings.warn(\n",
      "generation mode only\n",
      "number of problems for this task is 164\n",
      "  0%|                                                   | 0/164 [00:00<?, ?it/s][2024-08-12 22:37:59,841] [INFO] [real_accelerator.py:158:get_accelerator] Setting ds_accelerator to cuda (auto detect)\n",
      "/usr/local/lib/python3.11/dist-packages/transformers/generation/configuration_utils.py:381: UserWarning: `do_sample` is set to `False`. However, `temperature` is set to `0.2` -- this flag is only used in sample-based generation modes. You should set `do_sample=True` or unset `temperature`.\n",
      "  warnings.warn(\n",
      "/usr/local/lib/python3.11/dist-packages/transformers/generation/configuration_utils.py:386: UserWarning: `do_sample` is set to `False`. However, `top_p` is set to `0.95` -- this flag is only used in sample-based generation modes. You should set `do_sample=True` or unset `top_p`.\n",
      "  warnings.warn(\n",
      "/usr/local/lib/python3.11/dist-packages/transformers/generation/configuration_utils.py:396: UserWarning: `do_sample` is set to `False`. However, `top_k` is set to `0` -- this flag is only used in sample-based generation modes. You should set `do_sample=True` or unset `top_k`.\n",
      "  warnings.warn(\n",
      "100%|█████████████████████████████████████████| 164/164 [05:34<00:00,  2.04s/it]\n",
      "generations were saved at deepseekcoder1.3/generations_deepseek-coder-1-3b-instruct4bit_humanevalexplaindescribe-python.json\n"
     ]
    }
   ],
   "source": [
    "!python main.py \\\n",
    "--model {MODEL_HUB}  \\\n",
    "--tasks humanevalexplaindescribe-python \\\n",
    "--generation_only \\\n",
    "--do_sample False \\\n",
    "--n_samples 1 \\\n",
    "--batch_size 1 \\\n",
    "--allow_code_execution \\\n",
    "--save_generations \\\n",
    "--trust_remote_code \\\n",
    "--prompt deepseek \\\n",
    "--save_generations_path \"{SAVE_PATH}\" \\\n",
    "--max_length_generation 2048 \\\n",
    "--precision fp16 \\\n",
    "--load_in_4bit"
   ]
  },
  {
   "cell_type": "code",
   "execution_count": 12,
   "id": "9433b623-68ba-4d8e-b1ae-b07b2da2de92",
   "metadata": {
    "execution": {
     "iopub.execute_input": "2024-08-12T22:43:36.172096Z",
     "iopub.status.busy": "2024-08-12T22:43:36.171889Z",
     "iopub.status.idle": "2024-08-12T22:43:36.175812Z",
     "shell.execute_reply": "2024-08-12T22:43:36.175129Z",
     "shell.execute_reply.started": "2024-08-12T22:43:36.172078Z"
    }
   },
   "outputs": [
    {
     "name": "stdout",
     "output_type": "stream",
     "text": [
      "deepseekcoder1.3/generations_deepseek-coder-1-3b-instruct4bit_humanevalexplaindescribe-python.json\n"
     ]
    }
   ],
   "source": [
    "TASK = \"humanevalexplainsynthesize-python\"\n",
    "print(LOAD_PATH)"
   ]
  },
  {
   "cell_type": "code",
   "execution_count": 13,
   "id": "886a584f-f513-48dd-8697-3a411b2fc754",
   "metadata": {
    "execution": {
     "iopub.execute_input": "2024-08-12T22:43:36.176887Z",
     "iopub.status.busy": "2024-08-12T22:43:36.176722Z",
     "iopub.status.idle": "2024-08-12T22:49:50.845920Z",
     "shell.execute_reply": "2024-08-12T22:49:50.845147Z",
     "shell.execute_reply.started": "2024-08-12T22:43:36.176872Z"
    }
   },
   "outputs": [
    {
     "name": "stdout",
     "output_type": "stream",
     "text": [
      "2024-08-12 22:43:39.235878: E external/local_xla/xla/stream_executor/cuda/cuda_dnn.cc:9261] Unable to register cuDNN factory: Attempting to register factory for plugin cuDNN when one has already been registered\n",
      "2024-08-12 22:43:39.235979: E external/local_xla/xla/stream_executor/cuda/cuda_fft.cc:607] Unable to register cuFFT factory: Attempting to register factory for plugin cuFFT when one has already been registered\n",
      "2024-08-12 22:43:39.237416: E external/local_xla/xla/stream_executor/cuda/cuda_blas.cc:1515] Unable to register cuBLAS factory: Attempting to register factory for plugin cuBLAS when one has already been registered\n",
      "2024-08-12 22:43:39.245043: I tensorflow/core/platform/cpu_feature_guard.cc:182] This TensorFlow binary is optimized to use available CPU instructions in performance-critical operations.\n",
      "To enable the following instructions: AVX2 FMA, in other operations, rebuild TensorFlow with the appropriate compiler flags.\n",
      "2024-08-12 22:43:40.272015: W tensorflow/compiler/tf2tensorrt/utils/py_utils.cc:38] TF-TRT Warning: Could not find TensorRT\n",
      "Selected Tasks: ['humanevalexplainsynthesize-python']\n",
      "Loading model in 4bit\n",
      "/usr/local/lib/python3.11/dist-packages/transformers/utils/hub.py:374: FutureWarning: The `use_auth_token` argument is deprecated and will be removed in v5 of Transformers. Please use `token` instead.\n",
      "  warnings.warn(\n",
      "164 descriptions with 1 description candidates loaded.\n",
      "164 descriptions with 1 description candidates loaded.\n",
      "number of problems for this task is 164\n",
      "  0%|                                                   | 0/164 [00:00<?, ?it/s][2024-08-12 22:43:48,895] [INFO] [real_accelerator.py:158:get_accelerator] Setting ds_accelerator to cuda (auto detect)\n",
      "/usr/local/lib/python3.11/dist-packages/transformers/generation/configuration_utils.py:381: UserWarning: `do_sample` is set to `False`. However, `temperature` is set to `0.2` -- this flag is only used in sample-based generation modes. You should set `do_sample=True` or unset `temperature`.\n",
      "  warnings.warn(\n",
      "/usr/local/lib/python3.11/dist-packages/transformers/generation/configuration_utils.py:386: UserWarning: `do_sample` is set to `False`. However, `top_p` is set to `0.95` -- this flag is only used in sample-based generation modes. You should set `do_sample=True` or unset `top_p`.\n",
      "  warnings.warn(\n",
      "/usr/local/lib/python3.11/dist-packages/transformers/generation/configuration_utils.py:396: UserWarning: `do_sample` is set to `False`. However, `top_k` is set to `0` -- this flag is only used in sample-based generation modes. You should set `do_sample=True` or unset `top_k`.\n",
      "  warnings.warn(\n",
      "100%|█████████████████████████████████████████| 164/164 [05:17<00:00,  1.93s/it]\n",
      "generations were saved at deepseekcoder1.3/generations_deepseek-coder-1-3b-instruct4bit_humanevalexplainsynthesize-python.json\n",
      "Evaluating generations...\n",
      "{\n",
      "  \"humanevalexplainsynthesize-python\": {\n",
      "    \"pass@1\": 0.40853658536585363\n",
      "  },\n",
      "  \"config\": {\n",
      "    \"prefix\": \"\",\n",
      "    \"do_sample\": false,\n",
      "    \"temperature\": 0.2,\n",
      "    \"top_k\": 0,\n",
      "    \"top_p\": 0.95,\n",
      "    \"n_samples\": 1,\n",
      "    \"eos\": \"<|endoftext|>\",\n",
      "    \"seed\": 0,\n",
      "    \"model\": \"deepseek-ai/deepseek-coder-1.3b-instruct\",\n",
      "    \"modeltype\": \"causal\",\n",
      "    \"peft_model\": null,\n",
      "    \"revision\": null,\n",
      "    \"use_auth_token\": false,\n",
      "    \"trust_remote_code\": true,\n",
      "    \"tasks\": \"humanevalexplainsynthesize-python\",\n",
      "    \"instruction_tokens\": null,\n",
      "    \"batch_size\": 1,\n",
      "    \"max_length_generation\": 2048,\n",
      "    \"precision\": \"fp16\",\n",
      "    \"load_in_8bit\": false,\n",
      "    \"load_in_4bit\": true,\n",
      "    \"left_padding\": false,\n",
      "    \"limit\": null,\n",
      "    \"limit_start\": 0,\n",
      "    \"save_every_k_tasks\": -1,\n",
      "    \"postprocess\": true,\n",
      "    \"allow_code_execution\": true,\n",
      "    \"generation_only\": false,\n",
      "    \"load_generations_path\": null,\n",
      "    \"load_data_path\": \"deepseekcoder1.3/generations_deepseek-coder-1-3b-instruct4bit_humanevalexplaindescribe-python.json\",\n",
      "    \"metric_output_path\": \"deepseekcoder1.3/evaluation_humanevalexplainpython_deepseek-coder-1-3b-instruct4bit\",\n",
      "    \"save_generations\": true,\n",
      "    \"load_generations_intermediate_paths\": null,\n",
      "    \"save_generations_path\": \"deepseekcoder1.3/generations_deepseek-coder-1-3b-instruct4bit\",\n",
      "    \"save_references\": false,\n",
      "    \"save_references_path\": \"references.json\",\n",
      "    \"prompt\": \"deepseek\",\n",
      "    \"max_memory_per_gpu\": null,\n",
      "    \"check_references\": false\n",
      "  }\n",
      "}\n"
     ]
    }
   ],
   "source": [
    "!python main.py \\\n",
    "--model {MODEL_HUB}  \\\n",
    "--tasks {TASK} \\\n",
    "--do_sample False \\\n",
    "--n_samples 1 \\\n",
    "--batch_size 1 \\\n",
    "--allow_code_execution \\\n",
    "--save_generations \\\n",
    "--trust_remote_code \\\n",
    "--prompt deepseek \\\n",
    "--load_data_path {LOAD_PATH} \\\n",
    "--save_generations_path {SAVE_PATH} \\\n",
    "--metric_output_path {EVAL_PATH} \\\n",
    "--max_length_generation 2048 \\\n",
    "--precision fp16 \\\n",
    "--load_in_4bit"
   ]
  }
 ],
 "metadata": {
  "kernelspec": {
   "display_name": "Python 3 (ipykernel)",
   "language": "python",
   "name": "python3"
  },
  "language_info": {
   "codemirror_mode": {
    "name": "ipython",
    "version": 3
   },
   "file_extension": ".py",
   "mimetype": "text/x-python",
   "name": "python",
   "nbconvert_exporter": "python",
   "pygments_lexer": "ipython3",
   "version": "3.11.7"
  }
 },
 "nbformat": 4,
 "nbformat_minor": 5
}
