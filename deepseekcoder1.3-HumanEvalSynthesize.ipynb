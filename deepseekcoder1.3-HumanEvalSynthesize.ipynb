{
 "cells": [
  {
   "cell_type": "code",
   "execution_count": 1,
   "id": "61bd6dcf-70f6-4678-a06b-7daae7dfecb3",
   "metadata": {
    "execution": {
     "iopub.execute_input": "2024-08-20T16:43:41.394930Z",
     "iopub.status.busy": "2024-08-20T16:43:41.394721Z",
     "iopub.status.idle": "2024-08-20T16:43:43.936309Z",
     "shell.execute_reply": "2024-08-20T16:43:43.935468Z",
     "shell.execute_reply.started": "2024-08-20T16:43:41.394914Z"
    }
   },
   "outputs": [
    {
     "name": "stdout",
     "output_type": "stream",
     "text": [
      "Requirement already satisfied: evaluate==0.3.0 in /usr/local/lib/python3.11/dist-packages (0.3.0)\n",
      "Requirement already satisfied: datasets>=2.0.0 in /usr/local/lib/python3.11/dist-packages (from evaluate==0.3.0) (2.14.5)\n",
      "Requirement already satisfied: numpy>=1.17 in /usr/local/lib/python3.11/dist-packages (from evaluate==0.3.0) (1.26.3)\n",
      "Requirement already satisfied: dill in /usr/local/lib/python3.11/dist-packages (from evaluate==0.3.0) (0.3.7)\n",
      "Requirement already satisfied: pandas in /usr/local/lib/python3.11/dist-packages (from evaluate==0.3.0) (2.2.0)\n",
      "Requirement already satisfied: requests>=2.19.0 in /usr/local/lib/python3.11/dist-packages (from evaluate==0.3.0) (2.31.0)\n",
      "Requirement already satisfied: tqdm>=4.62.1 in /usr/local/lib/python3.11/dist-packages (from evaluate==0.3.0) (4.66.1)\n",
      "Requirement already satisfied: xxhash in /usr/local/lib/python3.11/dist-packages (from evaluate==0.3.0) (3.4.1)\n",
      "Requirement already satisfied: multiprocess in /usr/local/lib/python3.11/dist-packages (from evaluate==0.3.0) (0.70.15)\n",
      "Requirement already satisfied: fsspec>=2021.05.0 in /usr/local/lib/python3.11/dist-packages (from fsspec[http]>=2021.05.0->evaluate==0.3.0) (2023.6.0)\n",
      "Requirement already satisfied: huggingface-hub>=0.7.0 in /usr/local/lib/python3.11/dist-packages (from evaluate==0.3.0) (0.20.3)\n",
      "Requirement already satisfied: packaging in /usr/local/lib/python3.11/dist-packages (from evaluate==0.3.0) (23.2)\n",
      "Requirement already satisfied: responses<0.19 in /usr/local/lib/python3.11/dist-packages (from evaluate==0.3.0) (0.18.0)\n",
      "Requirement already satisfied: pyarrow>=8.0.0 in /usr/local/lib/python3.11/dist-packages (from datasets>=2.0.0->evaluate==0.3.0) (15.0.0)\n",
      "Requirement already satisfied: aiohttp in /usr/local/lib/python3.11/dist-packages (from datasets>=2.0.0->evaluate==0.3.0) (3.9.1)\n",
      "Requirement already satisfied: pyyaml>=5.1 in /usr/lib/python3/dist-packages (from datasets>=2.0.0->evaluate==0.3.0) (5.4.1)\n",
      "Requirement already satisfied: filelock in /usr/local/lib/python3.11/dist-packages (from huggingface-hub>=0.7.0->evaluate==0.3.0) (3.13.1)\n",
      "Requirement already satisfied: typing-extensions>=3.7.4.3 in /usr/local/lib/python3.11/dist-packages (from huggingface-hub>=0.7.0->evaluate==0.3.0) (4.9.0)\n",
      "Requirement already satisfied: charset-normalizer<4,>=2 in /usr/local/lib/python3.11/dist-packages (from requests>=2.19.0->evaluate==0.3.0) (3.3.2)\n",
      "Requirement already satisfied: idna<4,>=2.5 in /usr/lib/python3/dist-packages (from requests>=2.19.0->evaluate==0.3.0) (3.3)\n",
      "Requirement already satisfied: urllib3<3,>=1.21.1 in /usr/local/lib/python3.11/dist-packages (from requests>=2.19.0->evaluate==0.3.0) (2.0.7)\n",
      "Requirement already satisfied: certifi>=2017.4.17 in /usr/lib/python3/dist-packages (from requests>=2.19.0->evaluate==0.3.0) (2020.6.20)\n",
      "Requirement already satisfied: python-dateutil>=2.8.2 in /usr/local/lib/python3.11/dist-packages (from pandas->evaluate==0.3.0) (2.8.2)\n",
      "Requirement already satisfied: pytz>=2020.1 in /usr/lib/python3/dist-packages (from pandas->evaluate==0.3.0) (2022.1)\n",
      "Requirement already satisfied: tzdata>=2022.7 in /usr/local/lib/python3.11/dist-packages (from pandas->evaluate==0.3.0) (2023.4)\n",
      "Requirement already satisfied: attrs>=17.3.0 in /usr/local/lib/python3.11/dist-packages (from aiohttp->datasets>=2.0.0->evaluate==0.3.0) (23.1.0)\n",
      "Requirement already satisfied: multidict<7.0,>=4.5 in /usr/local/lib/python3.11/dist-packages (from aiohttp->datasets>=2.0.0->evaluate==0.3.0) (6.0.4)\n",
      "Requirement already satisfied: yarl<2.0,>=1.0 in /usr/local/lib/python3.11/dist-packages (from aiohttp->datasets>=2.0.0->evaluate==0.3.0) (1.9.4)\n",
      "Requirement already satisfied: frozenlist>=1.1.1 in /usr/local/lib/python3.11/dist-packages (from aiohttp->datasets>=2.0.0->evaluate==0.3.0) (1.4.1)\n",
      "Requirement already satisfied: aiosignal>=1.1.2 in /usr/local/lib/python3.11/dist-packages (from aiohttp->datasets>=2.0.0->evaluate==0.3.0) (1.3.1)\n",
      "Requirement already satisfied: six>=1.5 in /usr/lib/python3/dist-packages (from python-dateutil>=2.8.2->pandas->evaluate==0.3.0) (1.16.0)\n",
      "\u001b[33mWARNING: Running pip as the 'root' user can result in broken permissions and conflicting behaviour with the system package manager. It is recommended to use a virtual environment instead: https://pip.pypa.io/warnings/venv\u001b[0m\u001b[33m\n",
      "\u001b[0m"
     ]
    }
   ],
   "source": [
    "!pip install evaluate==0.3.0"
   ]
  },
  {
   "cell_type": "code",
   "execution_count": 10,
   "id": "dcf78c75-6c69-4c0d-906e-d0d5da7ed7fa",
   "metadata": {
    "execution": {
     "iopub.execute_input": "2024-08-20T16:44:55.493735Z",
     "iopub.status.busy": "2024-08-20T16:44:55.493509Z",
     "iopub.status.idle": "2024-08-20T16:44:55.498271Z",
     "shell.execute_reply": "2024-08-20T16:44:55.497575Z",
     "shell.execute_reply.started": "2024-08-20T16:44:55.493716Z"
    }
   },
   "outputs": [
    {
     "name": "stdout",
     "output_type": "stream",
     "text": [
      "deepseekcoder1.3/generations_deepseek-coder-1-3b-instruct\n",
      "deepseekcoder1.3/generations_deepseek-coder-1-3b-instruct_humanevalsynthesize-python.json\n",
      "deepseekcoder1.3/evaluation_humanevalsynthesize-python_deepseek-coder-1-3b-instruct\n"
     ]
    }
   ],
   "source": [
    "MODEL_HUB = \"deepseek-ai/deepseek-coder-1.3b-instruct\"\n",
    "MODEL = \"deepseek-coder-1-3b-instruct\"\n",
    "PATH = \"deepseekcoder1.3\"\n",
    "TASK = \"humanevalsynthesize-python\"\n",
    "QUANT = \"\"\n",
    "\n",
    "def create_path(model, path, task, quant):\n",
    "    SAVE_PATH = path + \"/generations_\" + model + quant\n",
    "    LOAD_PATH = SAVE_PATH + \"_\" + task + \".json\"\n",
    "    EVAL_PATH = PATH + \"/evaluation_humanevalsynthesize-python_\" + model + quant\n",
    "    return SAVE_PATH, LOAD_PATH, EVAL_PATH\n",
    "\n",
    "SAVE_PATH, LOAD_PATH, EVAL_PATH = create_path(MODEL, PATH, TASK, QUANT)\n",
    "print(SAVE_PATH)\n",
    "print(LOAD_PATH)\n",
    "print(EVAL_PATH)"
   ]
  },
  {
   "cell_type": "code",
   "execution_count": 11,
   "id": "f4afc6e7-49fd-49f2-95b3-65289342ea4f",
   "metadata": {
    "execution": {
     "iopub.execute_input": "2024-08-20T16:44:56.916177Z",
     "iopub.status.busy": "2024-08-20T16:44:56.915748Z",
     "iopub.status.idle": "2024-08-20T16:44:59.371338Z",
     "shell.execute_reply": "2024-08-20T16:44:59.370636Z",
     "shell.execute_reply.started": "2024-08-20T16:44:56.916160Z"
    }
   },
   "outputs": [],
   "source": [
    "!python main.py \\\n",
    "--model {MODEL_HUB}  \\\n",
    "--tasks {TASK} \\\n",
    "--do_sample False \\\n",
    "--n_samples 1 \\\n",
    "--batch_size 1 \\\n",
    "--allow_code_execution \\\n",
    "--save_generations \\\n",
    "--trust_remote_code \\\n",
    "--prompt deepseek \\\n",
    "--save_generations_path {SAVE_PATH} \\\n",
    "--metric_output_path {EVAL_PATH} \\\n",
    "--max_length_generation 2048 \\\n",
    "--precision bf16"
   ]
  },
  {
   "cell_type": "code",
   "execution_count": 4,
   "id": "fa76d3c8-465d-4ba5-9e1a-8cc0ee6fc69e",
   "metadata": {
    "execution": {
     "iopub.execute_input": "2024-08-20T16:43:46.468103Z",
     "iopub.status.busy": "2024-08-20T16:43:46.467910Z",
     "iopub.status.idle": "2024-08-20T16:43:46.472393Z",
     "shell.execute_reply": "2024-08-20T16:43:46.471907Z",
     "shell.execute_reply.started": "2024-08-20T16:43:46.468084Z"
    }
   },
   "outputs": [
    {
     "name": "stdout",
     "output_type": "stream",
     "text": [
      "deepseekcoder1.3/generations_deepseek-coder-1-3b-instruct8bit\n",
      "deepseekcoder1.3/generations_deepseek-coder-1-3b-instruct8bit_humanevalsynthesize-python.json\n",
      "deepseekcoder1.3/evaluation_humanevalsynthesize-python_deepseek-coder-1-3b-instruct8bit\n"
     ]
    }
   ],
   "source": [
    "MODEL_HUB = \"deepseek-ai/deepseek-coder-1.3b-instruct\"\n",
    "MODEL = \"deepseek-coder-1-3b-instruct\"\n",
    "PATH = \"deepseekcoder1.3\"\n",
    "TASK = \"humanevalsynthesize-python\"\n",
    "QUANT = \"8bit\"\n",
    "\n",
    "def create_path(model, path, task, quant):\n",
    "    SAVE_PATH = path + \"/generations_\" + model + quant\n",
    "    LOAD_PATH = SAVE_PATH + \"_\" + task + \".json\"\n",
    "    EVAL_PATH = PATH + \"/evaluation_humanevalsynthesize-python_\" + model + quant\n",
    "    return SAVE_PATH, LOAD_PATH, EVAL_PATH\n",
    "\n",
    "SAVE_PATH, LOAD_PATH, EVAL_PATH = create_path(MODEL, PATH, TASK, QUANT)\n",
    "print(SAVE_PATH)\n",
    "print(LOAD_PATH)\n",
    "print(EVAL_PATH)"
   ]
  },
  {
   "cell_type": "code",
   "execution_count": 5,
   "id": "f5c8761b-1dca-42f3-a9b0-79936754825b",
   "metadata": {
    "execution": {
     "iopub.execute_input": "2024-08-20T16:43:46.473694Z",
     "iopub.status.busy": "2024-08-20T16:43:46.473548Z",
     "iopub.status.idle": "2024-08-20T16:43:48.973127Z",
     "shell.execute_reply": "2024-08-20T16:43:48.972534Z",
     "shell.execute_reply.started": "2024-08-20T16:43:46.473680Z"
    }
   },
   "outputs": [],
   "source": [
    "!python main.py \\\n",
    "--model {MODEL_HUB}  \\\n",
    "--tasks {TASK} \\\n",
    "--do_sample False \\\n",
    "--n_samples 1 \\\n",
    "--batch_size 1 \\\n",
    "--allow_code_execution \\\n",
    "--save_generations \\\n",
    "--trust_remote_code \\\n",
    "--prompt deepseek \\\n",
    "--save_generations_path {SAVE_PATH} \\\n",
    "--metric_output_path {EVAL_PATH} \\\n",
    "--precision bf16 \\\n",
    "--max_length_generation 2048 \\\n",
    "--load_in_8bit"
   ]
  },
  {
   "cell_type": "code",
   "execution_count": 6,
   "id": "1f54816b-1900-4dce-a23c-d94c5a78f214",
   "metadata": {
    "execution": {
     "iopub.execute_input": "2024-08-20T16:43:48.974378Z",
     "iopub.status.busy": "2024-08-20T16:43:48.973989Z",
     "iopub.status.idle": "2024-08-20T16:43:48.981214Z",
     "shell.execute_reply": "2024-08-20T16:43:48.980678Z",
     "shell.execute_reply.started": "2024-08-20T16:43:48.974356Z"
    }
   },
   "outputs": [
    {
     "name": "stdout",
     "output_type": "stream",
     "text": [
      "deepseekcoder1.3/generations_deepseek-coder-1-3b-instruct4bit\n",
      "deepseekcoder1.3/generations_deepseek-coder-1-3b-instruct4bit_humanevalsynthesize-python.json\n",
      "deepseekcoder1.3/evaluation_humanevalsynthesize-python_deepseek-coder-1-3b-instruct4bit\n"
     ]
    }
   ],
   "source": [
    "MODEL_HUB = \"deepseek-ai/deepseek-coder-1.3b-instruct\"\n",
    "MODEL = \"deepseek-coder-1-3b-instruct\"\n",
    "PATH = \"deepseekcoder1.3\"\n",
    "TASK = \"humanevalsynthesize-python\"\n",
    "QUANT = \"4bit\"\n",
    "\n",
    "def create_path(model, path, task, quant):\n",
    "    SAVE_PATH = path + \"/generations_\" + model + quant\n",
    "    LOAD_PATH = SAVE_PATH + \"_\" + task + \".json\"\n",
    "    EVAL_PATH = PATH + \"/evaluation_humanevalsynthesize-python_\" + model + quant\n",
    "    return SAVE_PATH, LOAD_PATH, EVAL_PATH\n",
    "\n",
    "SAVE_PATH, LOAD_PATH, EVAL_PATH = create_path(MODEL, PATH, TASK, QUANT)\n",
    "print(SAVE_PATH)\n",
    "print(LOAD_PATH)\n",
    "print(EVAL_PATH)"
   ]
  },
  {
   "cell_type": "code",
   "execution_count": 7,
   "id": "2673d1df-5fe9-4ece-8ce8-8b8601b50fc8",
   "metadata": {
    "execution": {
     "iopub.execute_input": "2024-08-20T16:43:48.981937Z",
     "iopub.status.busy": "2024-08-20T16:43:48.981778Z",
     "iopub.status.idle": "2024-08-20T16:43:51.473985Z",
     "shell.execute_reply": "2024-08-20T16:43:51.473392Z",
     "shell.execute_reply.started": "2024-08-20T16:43:48.981923Z"
    }
   },
   "outputs": [],
   "source": [
    "!python main.py \\\n",
    "--model {MODEL_HUB}  \\\n",
    "--tasks {TASK} \\\n",
    "--do_sample False \\\n",
    "--n_samples 1 \\\n",
    "--batch_size 1 \\\n",
    "--allow_code_execution \\\n",
    "--save_generations \\\n",
    "--trust_remote_code \\\n",
    "--prompt deepseek \\\n",
    "--save_generations_path {SAVE_PATH} \\\n",
    "--metric_output_path {EVAL_PATH} \\\n",
    "--precision bf16 \\\n",
    "--max_length_generation 2048 \\\n",
    "--load_in_4bit"
   ]
  }
 ],
 "metadata": {
  "kernelspec": {
   "display_name": "Python 3 (ipykernel)",
   "language": "python",
   "name": "python3"
  },
  "language_info": {
   "codemirror_mode": {
    "name": "ipython",
    "version": 3
   },
   "file_extension": ".py",
   "mimetype": "text/x-python",
   "name": "python",
   "nbconvert_exporter": "python",
   "pygments_lexer": "ipython3",
   "version": "3.11.7"
  }
 },
 "nbformat": 4,
 "nbformat_minor": 5
}
